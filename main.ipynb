{
 "cells": [
  {
   "cell_type": "code",
   "execution_count": 19,
   "metadata": {},
   "outputs": [],
   "source": [
    "#%%appyter init\n",
    "from appyter import magic\n",
    "magic.init(lambda _=globals: _())"
   ]
  },
  {
   "cell_type": "code",
   "execution_count": 20,
   "metadata": {},
   "outputs": [
    {
     "data": {
      "text/markdown": [
       "```python\n",
       "#\"Pancreas - Tritschler et al. (Mouse)\": \"https://cellxgene.cziscience.com/collections/0a77d4c0-d5d0-40f0-aa1a-5e1429bcbd7e\",\n",
       "#\"Adipose Tissue - Emont et al. (Mouse)\": \"https://cellxgene.cziscience.com/collections/fe0e718d-2ee9-42cc-894b-0b490f437dfd\",\n",
       "#\"Liver - MacParland et al. 2018 (Human)\": \"https://cellxgene.cziscience.com/collections/bd5230f4-cd76-4d35-9ee5-89b3e7475659\",\n",
       "#\"Skeletal Muscle - Domínguez Conde et al. 2022 (Human)\": \"https://cellxgene.cziscience.com/collections/62ef75e4-cbea-454e-a0ce-998ec40223d3\",\n",
       "#\"Heart - Litviňuková et al. 2020 (Mouse)\": \"https://cellxgene.cziscience.com/collections/b52eb423-5d0d-4645-b217-e1c6d38b2e72\",\n",
       "#\"Retina - Li et al. 2023 (Human)\": \"https://cellxgene.cziscience.com/collections/4c6eaf5c-6d57-4c76-b1e9-60df8c655f1e\",\n",
       "#\"Retina - Cowan et al. 2020 (Mouse)\": \"https://cellxgene.cziscience.com/collections/2f4c738f-e2f3-4553-9db2-0582a38ea4dc\",\n",
       "#Breast - Reed et al. 2024 (Human)\": \"https://cellxgene.cziscience.com/collections/48259aa8-f168-4bf5-b797-af8e88da6637\",\n",
       "```"
      ],
      "text/plain": [
       "<IPython.core.display.Markdown object>"
      ]
     },
     "metadata": {},
     "output_type": "display_data"
    }
   ],
   "source": [
    "%%appyter hide_code\n",
    "\n",
    "{% do SectionField(\n",
    "    name='primary',\n",
    "    title='Upload Tumor Expression',\n",
    "    img='upload.png'\n",
    ") %}\n",
    "\n",
    "{% set data_type = TabField(\n",
    "    name='data_type',\n",
    "    label='Data Type',\n",
    "    default='bulk RNA-seq',\n",
    "    description='Start with either scRNA-seq or bulk RNA-seq data. If bulk RNA-seq data is selected we will utilize pre-curated reference matrices to identify cell type-specific expression vectors.',\n",
    "    required=True,\n",
    "    section='primary',\n",
    "    choices={\n",
    "        'scRNA-seq': [\n",
    "            TabField(\n",
    "            name='sc_data_type_ctrl',\n",
    "            label='Data Format (Data Set 1)',\n",
    "            default='Plain Text',\n",
    "            description='Choose a format for scRNA-seq data. Upload either a control and perturbation profile for integration, or a single scRNA-seq profile containing two conditions of interest.',\n",
    "            required=True,\n",
    "            choices= {\n",
    "                'Plain Text': [\n",
    "                        CustomFileField(\n",
    "                        name='sc_rna_file_ctrl',\n",
    "                        label='control scRNA-seq',\n",
    "                        description='''\n",
    "    File should be a tsv/csv of the form:\n",
    "\n",
    "                                        cell 1   cell 2    ...\n",
    "                    ------------------------------\n",
    "            Gene/Protein 1    0          2       ...\n",
    "                    ------------------------------\n",
    "            Gene/Protein 2    1         1        ...\n",
    "                    ------------------------------\n",
    "                        ...                       ... \n",
    "                        ''',\n",
    "                        default='data/GSE171417_rbk_control.tsv.gz',\n",
    "                        required=False,\n",
    "                        examples={\n",
    "                            'GSE171417_rbk_control.tsv.gz': 'https://minio.dev.maayanlab.cloud/sc2targets/GSE171417_rbk_control.tsv.gz',\n",
    "                        },\n",
    "                    ),\n",
    "                    CustomFileField(\n",
    "                        name='sc_meta_file_ctrl',\n",
    "                        label='metadata',\n",
    "                        description='''\n",
    "                        File should be a tsv/csv of the form:\n",
    "\n",
    "                            Cell 1 replicate    Group ...\n",
    "                        ---------------------------------------\n",
    "                        barcode 1    control_1                   Control       ...\n",
    "                        ---------------------------------------\n",
    "                        barcode 2    control_2                   Control       ...\n",
    "                        ---------------------------------------\n",
    "                        ...                       ...                    ...        ...\n",
    "                        ''',\n",
    "                        default='data/GSE171417_metadata_control.tsv',\n",
    "                        required=False,\n",
    "                        examples={\n",
    "                            'GSE171417_metadata_control.tsv': 'https://minio.dev.maayanlab.cloud/sc2targets/GSE171417_metadata_control.tsv',\n",
    "                        },\n",
    "                    ),\n",
    "                    TextField(\n",
    "                        name='cell_type_col_ctrl',\n",
    "                        label='Cell Type Column (Optional)',\n",
    "                        description='Name of cell type column in uploaded metadata (if not selected, cell type identification will be performed)',\n",
    "                        default='',\n",
    "                        hint='cell_type',\n",
    "                        required=False\n",
    "                    ),\n",
    "                    TextField(\n",
    "                        name='control_cond',\n",
    "                        label='Control Condition Name (Optional)',\n",
    "                        description='Name of control in the \"Group\" column in uploaded metadata',\n",
    "                        default='Cont',\n",
    "                        hint='control',\n",
    "                        required=False\n",
    "                    ),\n",
    "                    TextField(\n",
    "                        name='pert_cond',\n",
    "                        label='Perturbation Condition Name (Optional)',\n",
    "                        description='Name of perturbation in the \"Group\" column in uploaded metadata (if not selected, we assume two single cell profiles are being uploaded)',\n",
    "                        default='',\n",
    "                        hint='perturbation',\n",
    "                        required=False\n",
    "                    )\n",
    "                ],\n",
    "                '.mtx': [\n",
    "                    CustomFileField(\n",
    "                        name='matrix_sc_1',\n",
    "                        label='scRNA-seq matrix file',\n",
    "                        description='''\n",
    "                        File should be a mtx format (10x Genomics/Cell Ranger Standard)\n",
    "                        ''',\n",
    "                        default='',\n",
    "                        required=False,\n",
    "                        constraint='*.mtx',\n",
    "                        accepts='Accepts .mtx (.gz)',\n",
    "                        examples={\n",
    "                            'Melanoma_matrix.tsv.gz': 'https://minio.dev.maayanlab.cloud/sc2targets/matrix.mtx.gz',\n",
    "                        },\n",
    "                    ),\n",
    "                    CustomFileField(\n",
    "                        name='barcode_sc_1',\n",
    "                        label='scRNA-seq',\n",
    "                        description='''\n",
    "                        File should be a tsv format\n",
    "                        ''',\n",
    "                        default='',\n",
    "                        required=False,\n",
    "                        accepts='Accepts .tsv, .csv, .txt (.gz)',\n",
    "                        examples={\n",
    "                            'Melanoma_barcodes.tsv.gz': 'https://minio.dev.maayanlab.cloud/sc2targets/barcodes.tsv.gzv',\n",
    "                        },\n",
    "                    ),\n",
    "                    CustomFileField(\n",
    "                        name='features_sc_1',\n",
    "                        label='scRNA-seq',\n",
    "                        description='''\n",
    "                        File should be a tsv format\n",
    "                        ''',\n",
    "                        default='',\n",
    "                        required=False,\n",
    "                        accepts='Accepts .tsv, .csv, .txt (.gz)',\n",
    "                        examples={\n",
    "                            'Melanoma_features.tsv.gz': 'https://minio.dev.maayanlab.cloud/sc2targets/features.tsv.gz',\n",
    "                        },\n",
    "                    ),\n",
    "                    TextField(\n",
    "                        name='cell_type_col_1',\n",
    "                        label='Cell Type Column (Optional)',\n",
    "                        description='Name of cell type column in uploaded metadata (if not selected, cell type identification will be performed)',\n",
    "                        default='',\n",
    "                        hint='cell_type',\n",
    "                        required=False\n",
    "                    ),\n",
    "                    TextField(\n",
    "                        name='control_cond_1',\n",
    "                        label='Control Condition Name (Optional)',\n",
    "                        description='Name of control in the \"Group\" column in uploaded metadata',\n",
    "                        default='Cont',\n",
    "                        hint='control',\n",
    "                        required=False\n",
    "                    ),\n",
    "                    TextField(\n",
    "                        name='pert_cond_1',\n",
    "                        label='Perturbation Condition Name (Optional)',\n",
    "                        description='Name of perturbation in the \"Group\" column in uploaded metadata (if not selected, we assume two single cell profiles are being uploaded)',\n",
    "                        default='',\n",
    "                        hint='perturbation',\n",
    "                        required=False\n",
    "                    )\n",
    "                ],\n",
    "                'anndata': [\n",
    "                    CustomFileField(\n",
    "                        name='anndata_sc_1',\n",
    "                        label='scRNA-seq',\n",
    "                        description='''\n",
    "                        File should be an anndata format, assuming that cell types are in the \"obs\" field under \"cell_type\" key and\n",
    "                        the \"var\" field should contain the gene names in the index. The \"Group\" obs field should contain the group \n",
    "                        names / conditions if combining with another experiment, please include batch information under \"replicate\" obs field.\n",
    "                        ''',\n",
    "                        default='',\n",
    "                        required=False,\n",
    "                        accepts='Accepts .h5ad (.gz)',\n",
    "                        examples={\n",
    "                            'tabula_sapiens_skin.h5ad': 'https://datasets.cellxgene.cziscience.com/2a73a5e8-1360-44c5-a4fa-d470f0b17286.h5ad',\n",
    "                        }\n",
    "                    ),\n",
    "                    TextField(\n",
    "                        name='control_cond_anndata',\n",
    "                        label='Control Condition Name (Optional)',\n",
    "                        description='Name of control in the \"Group\" column in uploaded metadata. This should be specified if a single anndata object with multiple conditions is being used',\n",
    "                        default='Cont',\n",
    "                        hint='control',\n",
    "                        required=False\n",
    "                    ),\n",
    "\n",
    "                ]\n",
    "            }\n",
    "        ),\n",
    "        TabField(\n",
    "            name='sc_data_type',\n",
    "            label='Data format (Data Set 2)',\n",
    "            default='Plain Text',\n",
    "            description='Choose a format for scRNA-seq data',\n",
    "            required=True,\n",
    "            choices= {\n",
    "                'Plain Text': [\n",
    "                        CustomFileField(\n",
    "                        name='sc_rna_file_pert',\n",
    "                        label='scRNA-seq',\n",
    "                        description='''\n",
    "    File should be a tsv/csv of the form:\n",
    "\n",
    "                                        cell 1   cell 2    ...\n",
    "                    ------------------------------\n",
    "            Gene/Protein 1    0          2       ...\n",
    "                    ------------------------------\n",
    "            Gene/Protein 2    1         1        ...\n",
    "                    ------------------------------\n",
    "                        ...                       ... \n",
    "                        ''',\n",
    "                        default='data/GSE171417_rbk_experimental.tsv.gz',\n",
    "                        required=False,\n",
    "                        examples={\n",
    "                            'GSE171417_rbk_experimental.tsv.gz': 'https://minio.dev.maayanlab.cloud/sc2targets/GSE171417_rbk_experimental.tsv.gz',\n",
    "                        },\n",
    "                    ),\n",
    "                    CustomFileField(\n",
    "                        name='sc_meta_file_pert',\n",
    "                        label='metadata',\n",
    "                        description='''\n",
    "                        File should be a tsv/csv of the form:\n",
    "\n",
    "                            replicate    Group  ...\n",
    "                        ---------------------------------------\n",
    "                        Barcode 1    perturbation_1                  Perturbation       ...\n",
    "                        ---------------------------------------\n",
    "                        Barcode 2    perturbation_2                  Perturbation       ...\n",
    "                        ---------------------------------------\n",
    "                        ...                       ...                    ...        ...\n",
    "                        ''',\n",
    "                        default='data/GSE171417_metadata_experimental.tsv',\n",
    "                        required=False,\n",
    "                        examples={\n",
    "                            'GSE171417_metadata_experimental.tsv': 'https://minio.dev.maayanlab.cloud/sc2targets/GSE171417_metadata_experimental.tsv',\n",
    "                        },\n",
    "                    ),\n",
    "                    TextField(\n",
    "                        name='cell_type_col_pert',\n",
    "                        label='Cell Type Column (Optional)',\n",
    "                        description='Name of cell type column in uploaded metadata (if not selected, cell type identification will be performed)',\n",
    "                        default='',\n",
    "                        hint='cell_type',\n",
    "                        required=False\n",
    "                    ),\n",
    "                    TextField(\n",
    "                        name='pert_name_pert',\n",
    "                        label='Perturbation Condition Name (Optional)',\n",
    "                        description='Name of control in the \"Group\" column in uploaded metadata',\n",
    "                        default='Krt20',\n",
    "                        hint='disease',\n",
    "                        required=False\n",
    "                    )\n",
    "                    ],\n",
    "                '.mtx': [\n",
    "                    CustomFileField(\n",
    "                        name='matrix_sc_2',\n",
    "                        label='scRNA-seq matrix file',\n",
    "                        description='''\n",
    "                        File should be a mtx format (10x Genomics/Cell Ranger Standard)\n",
    "                        ''',\n",
    "                        default='',\n",
    "                        required=False,\n",
    "                        constraint='*.mtx',\n",
    "                        accepts='Accepts .mtx (.gz)',\n",
    "                        examples={\n",
    "                             'Melanoma_matrix.tsv.gz': 'https://minio.dev.maayanlab.cloud/sc2targets/matrix.mtx.gz',\n",
    "                        },\n",
    "                    ),\n",
    "                    CustomFileField(\n",
    "                        name='barcode_sc_2',\n",
    "                        label='scRNA-seq',\n",
    "                        description='''\n",
    "                        File should be a tsv format\n",
    "                        ''',\n",
    "                        default='',\n",
    "                        required=False,\n",
    "                        accepts='Accepts .tsv, .csv, .txt (.gz)',\n",
    "                        examples={\n",
    "                             'Melanoma_barcodes.tsv.gz': 'https://minio.dev.maayanlab.cloud/sc2targets/barcodes.mtx.gz',\n",
    "                        },\n",
    "                    ),\n",
    "                    CustomFileField(\n",
    "                        name='features_sc_2',\n",
    "                        label='scRNA-seq',\n",
    "                        description='''\n",
    "                        File should be a tsv format\n",
    "                        ''',\n",
    "                        default='',\n",
    "                        required=False,\n",
    "                        accepts='Accepts .tsv, .csv, .txt (.gz)',\n",
    "                        examples={\n",
    "                            'Melanoma_features.tsv.gz': 'https://minio.dev.maayanlab.cloud/sc2targets/features.mtx.gz',\n",
    "                        },\n",
    "                    )\n",
    "                ],\n",
    "                'anndata': [\n",
    "                    CustomFileField(\n",
    "                        name='anndata_sc_2',\n",
    "                        label='scRNA-seq',\n",
    "                        description='''\n",
    "                        File should be an anndata format, assuming that cell types are in the \"obs\" field under \"cell_type\" key and\n",
    "                        the \"var\" field should contain the gene names in the index. The \"Group\" obs field should contain the group \n",
    "                        names / conditions if combining with another experiment, please include batch information under \"replicate\" obs field.\n",
    "                        ''',\n",
    "                        default='',\n",
    "                        required=False,\n",
    "                        constraint='*.h5ad',\n",
    "                        accepts='Accepts .h5ad (.gz)',\n",
    "                        examples={\n",
    "                            'tabula_sapiens_skin.h5ad': 'https://datasets.cellxgene.cziscience.com/2a73a5e8-1360-44c5-a4fa-d470f0b17286.h5ad',\n",
    "                        }\n",
    "                    ),\n",
    "                ]\n",
    "            }\n",
    "        )],\n",
    "        'bulk RNA-seq':[\n",
    "            CustomFileField(\n",
    "                name='bulk_expr',\n",
    "                label='RNA-seq expression',\n",
    "                description='''\n",
    "                File should be a tsv/csv of the form:\n",
    "\n",
    "                    Patient 1 Tumor    Patient 2 Tumor  ...\n",
    "                ---------------------------------------\n",
    "                Gene/Protein 1    0                   200       ...\n",
    "                ---------------------------------------\n",
    "                Gene/Protein 2    5                   180       ...\n",
    "                ---------------------------------------\n",
    "                ...                       ...                    ...        ...\n",
    "                ''',\n",
    "                default='data/GSE49155_expression.tsv',\n",
    "                required=False,\n",
    "                examples={\n",
    "                    'GSE49155_expression.tsv': 'https://minio.dev.maayanlab.cloud/sc2targets/GSE49155_expression.tsv',\n",
    "                },\n",
    "            ),\n",
    "            CustomFileField(\n",
    "                        name='bulk_meta_file',\n",
    "                        label='metadata',\n",
    "                        description='''\n",
    "                        File should be a tsv/csv of the form:\n",
    "\n",
    "                            Patient 1 Tumor    Patient 2 Tumor  ...\n",
    "                        ---------------------------------------\n",
    "                        Gene/Protein 1    0                   200       ...\n",
    "                        ---------------------------------------\n",
    "                        Gene/Protein 2    5                   180       ...\n",
    "                        ---------------------------------------\n",
    "                        ...                       ...                    ...        ...\n",
    "                        ''',\n",
    "                        default='data/GSE49155_metadata.tsv',\n",
    "                        required=False,\n",
    "                        examples={\n",
    "                            'GSE49155_metadata.tsv': 'https://minio.dev.maayanlab.cloud/sc2targets/GSE49155_metadata.tsv',\n",
    "                        },\n",
    "                    ),\n",
    "                    TextField(\n",
    "                        name='condition_col',\n",
    "                        label='Condition Column',\n",
    "                        description='Name of the condition column in uploaded metadata',\n",
    "                        default='condition',\n",
    "                        required=True\n",
    "                    ),\n",
    "                    TextField(\n",
    "                        name='ctrl_condition',\n",
    "                        label='Control Condition Name',\n",
    "                        description='Name of the control condition in the condition column in uploaded metadata',\n",
    "                        default='normal',\n",
    "                        required=True\n",
    "                    ),\n",
    "                    ChoiceField(\n",
    "                        name='reference',\n",
    "                        label='Single Cell Reference',\n",
    "                        description='Choose a single cell reference to use for cell type deconvolution',\n",
    "                        default='Kidney - Tabula Sapiens (Human)',\n",
    "                        required=True,\n",
    "                        choices={\n",
    "                            \"Pancreas - Tabula Sapiens (Human)\": \"tabula_sapiens_pancreas\",\n",
    "                            \"Adipose Tissue - Tabula Sapiens (Human)\": \"tabula_sapiens_adipose\",\n",
    "                            \"Adipose Tissue - Tabula Muris (Mouse)\": \"tabula_muris_adipose\",\n",
    "                            \"Liver - Tabula Sapiens (Human)\": \"tabula_sapiens_liver\",\n",
    "                            \"Blood - Tabula Sapiens (Human)\": \"tabula_sapiens_blood\",\n",
    "                            \"Kidney - Tabula Sapiens (Human)\": \"tabula_sapiens_kidney\",\n",
    "                            \"Kidney - Lake et al. 2023 (Human)\": \"human_kidney_lake_et_al_2023\",\n",
    "                            \"Brain (non-myeloid) - Tabula Muris (Mouse)\": \"tabula_muris_brain-non-myeloid\",\n",
    "                            \"Heart - Tabula Sapiens (Human)\": \"tabula_sapiens_heart\",\n",
    "                            \"Heart - Tabula Muris (Mouse)\": \"tabula_muris_heart\",\n",
    "                            \"Muscle - Tabula Sapiens (Human)\": \"tabula_sapiens_muscle\",\n",
    "                            \"Muscle - Tabula Muris (Mouse)\": \"tabula_muris_muscle\",\n",
    "                            \"Skin - Tabula Sapiens (Human)\": \"tabula_sapiens_skin\",\n",
    "                            \"Lung - Tabula Sapiens (Human)\": \"tabula_sapiens_lung\",\n",
    "                            \"Lung - Tabula Muris (Mouse)\": \"tabula_muris_lung\",\n",
    "                            \"Spleen - Tabula Sapiens (Human)\": \"tabula_sapiens_spleen\",\n",
    "                            \"Spleen - Tabula Muris (Mouse)\": \"tabula_muris_spleen\",\n",
    "                            \"Prostate - Tabula Sapiens (Human)\": \"tabula_sapiens_prostate\",\n",
    "                            \"Lung Cancer Atlas (LuCA) - Salcher et al. 2022 (Human)\": \"salcher-et-al-lung-cancer\",\n",
    "                            }\n",
    "                    )\n",
    "         ]\n",
    "        }\n",
    ") %}\n",
    "\n",
    "#\"Pancreas - Tritschler et al. (Mouse)\": \"https://cellxgene.cziscience.com/collections/0a77d4c0-d5d0-40f0-aa1a-5e1429bcbd7e\",\n",
    "#\"Adipose Tissue - Emont et al. (Mouse)\": \"https://cellxgene.cziscience.com/collections/fe0e718d-2ee9-42cc-894b-0b490f437dfd\",\n",
    "#\"Liver - MacParland et al. 2018 (Human)\": \"https://cellxgene.cziscience.com/collections/bd5230f4-cd76-4d35-9ee5-89b3e7475659\",\n",
    "#\"Skeletal Muscle - Domínguez Conde et al. 2022 (Human)\": \"https://cellxgene.cziscience.com/collections/62ef75e4-cbea-454e-a0ce-998ec40223d3\",\n",
    "#\"Heart - Litviňuková et al. 2020 (Mouse)\": \"https://cellxgene.cziscience.com/collections/b52eb423-5d0d-4645-b217-e1c6d38b2e72\",\n",
    "#\"Retina - Li et al. 2023 (Human)\": \"https://cellxgene.cziscience.com/collections/4c6eaf5c-6d57-4c76-b1e9-60df8c655f1e\",\n",
    "#\"Retina - Cowan et al. 2020 (Mouse)\": \"https://cellxgene.cziscience.com/collections/2f4c738f-e2f3-4553-9db2-0582a38ea4dc\",\n",
    "#Breast - Reed et al. 2024 (Human)\": \"https://cellxgene.cziscience.com/collections/48259aa8-f168-4bf5-b797-af8e88da6637\",\n",
    "\n",
    "\n",
    "{% set n_neighbors = IntField(\n",
    "    name='n_neighbors',\n",
    "    label='N neighbors', \n",
    "    default=15, \n",
    "    min=2,\n",
    "    max=100,\n",
    "    step=1,\n",
    "    description='The size of local neighborhood (in terms of number of neighboring data points) used for manifold approximation.', \n",
    "    section='primary'\n",
    ")\n",
    "%}\n",
    "\n",
    "{% set min_dist = FloatField(\n",
    "    name='min_dist',\n",
    "    label='Min Distance', \n",
    "    default=0.01, \n",
    "    min=0.00001,\n",
    "    max=0.9,\n",
    "    step=0.00001,\n",
    "    description='The effective minimum distance between embedded points.', \n",
    "    section='primary'\n",
    ")\n",
    "%}\n",
    "\n",
    "{% set resolution = FloatField(\n",
    "    name='resolution',\n",
    "    label='Resolution', \n",
    "    default=1, \n",
    "    min=0.1,\n",
    "    max=2,\n",
    "    step=0.1,\n",
    "    description='A parameter value controlling the coarseness of the clustering. Higher values lead to more clusters.', \n",
    "    section='primary'\n",
    ")\n",
    "%}\n",
    "\n",
    "{% set species = ChoiceField(\n",
    "    name='species',\n",
    "    label='Species', \n",
    "    default='human',\n",
    "    choices=['human', 'mouse'],\n",
    "    description='Choose a species', \n",
    "    required=True,\n",
    "    section='primary'\n",
    ")\n",
    "%}\n",
    "\n",
    "\n",
    "{% set membrane_screener_list = 'https://appyters.maayanlab.cloud/storage/Tumor_Gene_Target_Screener/surfaceome.csv' %}\n"
   ]
  },
  {
   "cell_type": "code",
   "execution_count": 21,
   "metadata": {},
   "outputs": [],
   "source": [
    "from helpers import *\n",
    "import os\n",
    "import re\n",
    "import random\n",
    "import qnorm\n",
    "import shutil\n",
    "from string import ascii_uppercase\n",
    "from tqdm import tqdm\n",
    "import numpy as np\n",
    "import pandas as pd\n",
    "import scanpy as sc\n",
    "import scanpy.external as sce\n",
    "import anndata as ad\n",
    "import decoupler as dc\n",
    "\n",
    "from matplotlib import cm\n",
    "from matplotlib.patches import Rectangle\n",
    "from matplotlib.patches import Patch\n",
    "import matplotlib.pyplot as plt\n",
    "import seaborn as sns\n",
    "from matplotlib.colors import LinearSegmentedColormap\n",
    "%matplotlib inline\n",
    "\n",
    "import networkx as nx\n",
    "\n",
    "from IPython.display import HTML, display, Markdown, FileLink\n",
    "from matplotlib.gridspec import GridSpec\n",
    "from matplotlib_venn import venn2\n",
    "from maayanlab_bioinformatics.normalization import zscore_normalize, log2_normalize\n",
    "from maayanlab_bioinformatics.harmonization.ncbi_genes import ncbi_genes_lookup\n",
    "from maayanlab_bioinformatics.api import enrichr_link_from_genes\n",
    "from statsmodels.stats.multitest import multipletests\n",
    "\n",
    "import warnings\n",
    "warnings.filterwarnings(\"ignore\")\n",
    "\n",
    "sc.settings.set_figure_params(dpi=300, frameon=True, figsize=(2, 2), fontsize=6)\n",
    "sc.settings.verbosity = 0\n",
    "\n",
    "os.makedirs('results', exist_ok=True)\n",
    "os.makedirs('figures', exist_ok=True)\n",
    "\n",
    "    \n",
    "fig_counter = 2\n",
    "table_counter = 1\n",
    "letter_counter = 0\n",
    "discussion_results = {}\n",
    "\n",
    "import sys\n",
    "import contextlib\n",
    "@contextlib.contextmanager\n",
    "def suppress_output(stdout=True, stderr=True, dest=os.devnull):\n",
    "    ''' Usage:\n",
    "    with suppress_output():\n",
    "        print('hi')\n",
    "    '''\n",
    "    dev_null = open(dest, 'a')\n",
    "    if stdout:\n",
    "        _stdout = sys.stdout\n",
    "        sys.stdout = dev_null\n",
    "    if stderr:\n",
    "        _stderr = sys.stderr\n",
    "        sys.stderr = dev_null\n",
    "    try:\n",
    "        yield\n",
    "    finally:\n",
    "        if stdout:\n",
    "            sys.stdout = _stdout\n",
    "        if stderr:\n",
    "            sys.stderr = _stderr"
   ]
  },
  {
   "cell_type": "code",
   "execution_count": 22,
   "metadata": {},
   "outputs": [
    {
     "data": {
      "text/markdown": [
       "## Abstract"
      ],
      "text/plain": [
       "<IPython.core.display.Markdown object>"
      ]
     },
     "metadata": {},
     "output_type": "display_data"
    },
    {
     "data": {
      "text/markdown": [
       "Single cell RNA-seq data enables the profiling of gene expression in individual cells. In disease states, cell type \n",
       "proportions and functions are often altered. By utilizing two single cell profiles from a control and experimental condition,\n",
       "TargetRanger can be used to identify highly expressed cell-surface proteins on diseased cell types that are lowly expressed on the healthy cell type and in healthy cells and tissues.\n",
       "Additionally, we can use L1000 data to identify compounds most likely to push diseased cell types to a healthy phenotype. SC2Targets also enables this analysis on bulk RNA-seq data, \n",
       "identifying cell-type specific expression for each bulk sample using a single cell reference and the the deconvolution algorithm, BayesPrism. Overall, SC2Targets enables the \n",
       "identification of cell-type specific targets that and reverser compounds to remove to treat disease. "
      ],
      "text/plain": [
       "<IPython.core.display.Markdown object>"
      ]
     },
     "metadata": {},
     "output_type": "display_data"
    }
   ],
   "source": [
    "display(Markdown('## Abstract'))\n",
    "abstract_text = '''Single cell RNA-seq data enables the profiling of gene expression in individual cells. In disease states, cell type \n",
    "proportions and functions are often altered. By utilizing two single cell profiles from a control and experimental condition,\n",
    "TargetRanger can be used to identify highly expressed cell-surface proteins on diseased cell types that are lowly expressed on the healthy cell type and in healthy cells and tissues.\n",
    "Additionally, we can use L1000 data to identify compounds most likely to push diseased cell types to a healthy phenotype. SC2Targets also enables this analysis on bulk RNA-seq data, \n",
    "identifying cell-type specific expression for each bulk sample using a single cell reference and the the deconvolution algorithm, BayesPrism. Overall, SC2Targets enables the \n",
    "identification of cell-type specific targets that and reverser compounds to remove to treat disease. '''\n",
    "\n",
    "display(Markdown(abstract_text))"
   ]
  },
  {
   "cell_type": "code",
   "execution_count": 23,
   "metadata": {
    "buttons": true
   },
   "outputs": [],
   "source": [
    "#load the buttons"
   ]
  },
  {
   "cell_type": "markdown",
   "metadata": {},
   "source": [
    "## Methods"
   ]
  },
  {
   "cell_type": "code",
   "execution_count": 24,
   "metadata": {},
   "outputs": [
    {
     "data": {
      "text/markdown": [
       "\n",
       "\n",
       "\n",
       "*Normalization*\n",
       "\n",
       "Uploaded bulk RNA-seq data is quantile and log2 normalized. The normalized data is then visualized using UMAP [1].\n",
       "\n",
       "*Deconvolution*\n",
       "\n",
       "Deconvolution is performed with BayesPrism [2] and through a fast implementation in R named InstaPrism [3]. Single cell reference backgrounds are precomputed from a variety of sources. InstaPrism provides both cell type fractions as well as cell-type specific expression inferred for each bulk RNA-seq sample.\n",
       "To prioritize cell types for downstream analysis, we compute the cell types with the most altered cell type fractions across the control and perturbation conditions.\n",
       "\n",
       "*Cell Surface Target Identification*\n",
       "\n",
       "We utilize the TargetRanger [4] to identify genes that are highly expressed in the target cells while lowly expressed across normal human cell types and tissues. TargetRanger [4] compares the inputted samples with processed RNA-seq from several atlases containing healthy tissue and cell type gene expression, namely, GTEx [5], ARCHS4 [6], and Tabula Sapiens [7] for human and ARCHS4 [6] and Tabula Muris [8] for mouse.\n",
       "The simulated cell type specific bulk samples are compared to the healthy reference backgrounds and significantly up-regulated targets identified in the control condition are filtered from the final results as to more specifically target the perturbed cell types.\n",
       "\n",
       "*LINCS L1000 Reversers*\n",
       "\n",
       "To identify compounds and gene knockouts most likely to push perturbed cell types to the healthy phenotype, we query SigCom LINCS [9] which is a web-based search engine that serves over 1.5 million gene expression signatures processed, analyzed, and visualized from LINCS [10], GTEx [5], and GEO [11]. \n",
       "We produce up and down gene sets based on differential expression analysis between the control and perturbation cell type specific samples using a Welch's t-test and extracting genes significantly expressed (P-value < 0.01). SigCom LINCS provides rapid signature similarity search for mimickers and reversers given sets of up and down \n",
       "genes and we visualize the top 10 reverser compounds and CRISPR KOs reversers with links to the full results provided in a table below.\n",
       "\n"
      ],
      "text/plain": [
       "<IPython.core.display.Markdown object>"
      ]
     },
     "metadata": {},
     "output_type": "display_data"
    }
   ],
   "source": [
    "%%appyter markdown\n",
    "\n",
    "{% if data_type.raw_value == 'scRNA-seq' %}\n",
    "\n",
    "*Normalization & Integration*\n",
    "\n",
    "scRNA-seq data normalization follows the standard Seruat [1] vignette which first includes filtering genes expressed in less than 3 cells and genes expressed in less than 500 cells which is done using scanpy [2]. Then doublets are removed using scrublet [3] and cells with greater than 5% mitochondrial gene expression are removed. \n",
    "The remaining cells are then normalized to a total target sum of 10,000, log normalized, and highly variable genes are computed for the top 2000 genes. Then PCA is performed and results are visualized using UMAP [4]. \n",
    "If two separate single cell profiles are used, then integration is performed using Harmony [5], generating a harmonized PCA representation of the single cell profiles used for visualization and downstream analysis.\n",
    "\n",
    "*Cell Type Annotation*\n",
    "\n",
    "Cells in the integrated profile are clustered using UMAP [4] and the Leiden algorithm [6]. Canonical cell type makers are sourced from PanglaoDB [7] and are used for enrichment analysis and visualization of inferred cell types using decoupleR [8] based on overrepresented markers. \n",
    "Then, to prioritize cell types for downstream analysis, we compute the silhouette score for each cell type across the control and perturbation condition. The cell types with the most negative silhouette scores indicate the most dissimilar cell types between the control and perturbation conditions and are thus prioritized for the downstream analysis.\n",
    "\n",
    "*Cell Surface Target Identification*\n",
    "\n",
    "We utilize the TargetRanger [9] to identify genes that are highly expressed in the target cells while lowly expressed across normal human cell types and tissues. TargetRanger [9] compares the inputted samples with processed RNA-seq from several atlases containing healthy tissue and cell type gene expression, namely, GTEx [10], ARCHS4 [11], and Tabula Sapiens [12] for human and ARCHS4 [11] and Tabula Muris [13] for mouse.\n",
    "The simulated cell type specific bulk samples are compared to the healthy reference backgrounds and significantly up-regulated targets identified in the control condition are filtered from the final results as to more specifically target the perturbed cell types.\n",
    "\n",
    "*LINCS L1000 Reversers*\n",
    "\n",
    "To identify compounds and gene knockouts most likely to push perturbed cell types to the healthy phenotype, we query SigCom LINCS [14] which is a web-based search engine that serves over 1.5 million gene expression signatures processed, analyzed, and visualized from LINCS [15], GTEx [10], and GEO [16]. \n",
    "We produce up and down gene sets based on differential expression analysis between the control and perturbation cell type specific samples using a Welch's t-test and extracting genes significantly expressed (P-value < 0.01). SigCom LINCS provides rapid signature similarity search for mimickers and reversers given sets of up and down \n",
    "genes and we visualize the top 10 reverser compounds and CRISPR KOs reversers with links to the full results provided in a table below.\n",
    "\n",
    "{% elif data_type.raw_value == 'bulk RNA-seq' %}\n",
    "\n",
    "*Normalization*\n",
    "\n",
    "Uploaded bulk RNA-seq data is quantile and log2 normalized. The normalized data is then visualized using UMAP [1].\n",
    "\n",
    "*Deconvolution*\n",
    "\n",
    "Deconvolution is performed with BayesPrism [2] and through a fast implementation in R named InstaPrism [3]. Single cell reference backgrounds are precomputed from a variety of sources. InstaPrism provides both cell type fractions as well as cell-type specific expression inferred for each bulk RNA-seq sample.\n",
    "To prioritize cell types for downstream analysis, we compute the cell types with the most altered cell type fractions across the control and perturbation conditions.\n",
    "\n",
    "*Cell Surface Target Identification*\n",
    "\n",
    "We utilize the TargetRanger [4] to identify genes that are highly expressed in the target cells while lowly expressed across normal human cell types and tissues. TargetRanger [4] compares the inputted samples with processed RNA-seq from several atlases containing healthy tissue and cell type gene expression, namely, GTEx [5], ARCHS4 [6], and Tabula Sapiens [7] for human and ARCHS4 [6] and Tabula Muris [8] for mouse.\n",
    "The simulated cell type specific bulk samples are compared to the healthy reference backgrounds and significantly up-regulated targets identified in the control condition are filtered from the final results as to more specifically target the perturbed cell types.\n",
    "\n",
    "*LINCS L1000 Reversers*\n",
    "\n",
    "To identify compounds and gene knockouts most likely to push perturbed cell types to the healthy phenotype, we query SigCom LINCS [9] which is a web-based search engine that serves over 1.5 million gene expression signatures processed, analyzed, and visualized from LINCS [10], GTEx [5], and GEO [11]. \n",
    "We produce up and down gene sets based on differential expression analysis between the control and perturbation cell type specific samples using a Welch's t-test and extracting genes significantly expressed (P-value < 0.01). SigCom LINCS provides rapid signature similarity search for mimickers and reversers given sets of up and down \n",
    "genes and we visualize the top 10 reverser compounds and CRISPR KOs reversers with links to the full results provided in a table below.\n",
    "\n",
    "{% endif %}\n"
   ]
  },
  {
   "cell_type": "code",
   "execution_count": 25,
   "metadata": {},
   "outputs": [
    {
     "data": {
      "text/markdown": [
       "<img src='https://minio.dev.maayanlab.cloud/sc2targets/scRNAseq2TargetsWorkflow.png' alt=\"scRNAseq2Targets Workflow Diagram\">"
      ],
      "text/plain": [
       "<IPython.core.display.Markdown object>"
      ]
     },
     "metadata": {},
     "output_type": "display_data"
    }
   ],
   "source": [
    "%%appyter markdown\n",
    "<img src='https://minio.dev.maayanlab.cloud/sc2targets/scRNAseq2TargetsWorkflow.png' alt=\"scRNAseq2Targets Workflow Diagram\">"
   ]
  },
  {
   "cell_type": "code",
   "execution_count": 26,
   "metadata": {},
   "outputs": [
    {
     "data": {
      "text/markdown": [
       "__Fig. 1__ Workflow of the scRNAseq2Targets pipeline. The pipeline starts with two single cell profiles from a control and experimental condition or a bulk RNA-seq dataset with control and perturbation conditions along with a tissue-specific single cell reference. Then it utilizes L1000 data to identify compounds most likely to push diseased cell types to a healthy phenotype as well as identifying cell-type specific membrane targets for targeted cell removal."
      ],
      "text/plain": [
       "<IPython.core.display.Markdown object>"
      ]
     },
     "metadata": {},
     "output_type": "display_data"
    }
   ],
   "source": [
    "display(Markdown(\"__Fig. 1__ Workflow of the scRNAseq2Targets pipeline. The pipeline starts with two single cell profiles from a control and experimental condition or a bulk RNA-seq dataset with control and perturbation conditions along with a tissue-specific single cell reference. Then it utilizes L1000 data to identify compounds most likely to push diseased cell types to a healthy phenotype as well as identifying cell-type specific membrane targets for targeted cell removal.\"))"
   ]
  },
  {
   "cell_type": "code",
   "execution_count": 27,
   "metadata": {},
   "outputs": [
    {
     "data": {
      "text/markdown": [
       "```python\n",
       "#load the data\n",
       "bulk_expr_df = read_bulk_data('data/GSE49155_expression.tsv')\n",
       "metadata_df = read_bulk_data('data/GSE49155_metadata.tsv')\n",
       "condition_col = 'condition'\n",
       "control_cond = 'normal'\n",
       "sc_ref = 'tabula_sapiens_kidney'\n",
       "```"
      ],
      "text/plain": [
       "<IPython.core.display.Markdown object>"
      ]
     },
     "metadata": {},
     "output_type": "display_data"
    }
   ],
   "source": [
    "%%appyter code_exec\n",
    "#load the data\n",
    "{% if data_type.raw_value == 'scRNA-seq' %}\n",
    "\n",
    "{% if data_type.value[0].raw_value == 'Plain Text' %}\n",
    "sc_data_ctrl_file = {{ data_type.value[0].value[0] }}\n",
    "sc_metadata_ctrl_file = {{ data_type.value[0].value[1] }}\n",
    "sc_data_ctrl = read_sc_data(sc_data_ctrl_file, sc_metadata_ctrl_file, 'plain')\n",
    "cell_type_col = {{ data_type.value[0].value[2] }}\n",
    "control_cond = {{ data_type.value[0].value[3] }}\n",
    "pert_cond = {{ data_type.value[0].value[4] }}\n",
    "\n",
    "\n",
    "{% elif data_type.value[1].raw_value == '.mtx' %}\n",
    "\n",
    "{% endif %}\n",
    "\n",
    "{% if data_type.value[1].raw_value == 'Plain Text' %}\n",
    "sc_data_pert_file = {{ data_type.value[1].value[0] }}\n",
    "sc_metadata_pert_file = {{ data_type.value[1].value[1] }}\n",
    "if pert_cond == '':\n",
    "    pert_cond = {{ data_type.value[1].value[3] }}\n",
    "if sc_data_pert_file != '' and sc_metadata_pert_file != '':\n",
    "    sc_data_pert = read_sc_data(sc_data_pert_file, sc_metadata_pert_file, 'plain')\n",
    "\n",
    "cell_type_col = {{ data_type.value[1].value[2] }}\n",
    "{% elif data_type.value[1].raw_value == '.mtx' %}\n",
    "## TODO IMPLEMENT .MTX FILE LOADING\n",
    "{% endif %}\n",
    "\n",
    "{% elif data_type.raw_value == 'bulk RNA-seq' %}\n",
    "\n",
    "bulk_expr_df = read_bulk_data('{{ data_type.value[0].value }}')\n",
    "metadata_df = read_bulk_data('{{ data_type.value[1].value }}')\n",
    "condition_col = '{{ data_type.value[2].value }}'\n",
    "control_cond = '{{ data_type.value[3].value }}'\n",
    "sc_ref = '{{ data_type.value[4].value }}'\n",
    "\n",
    "{% endif %}"
   ]
  },
  {
   "cell_type": "code",
   "execution_count": 28,
   "metadata": {},
   "outputs": [
    {
     "data": {
      "text/markdown": [
       "```python\n",
       "n_neighbors = 15\n",
       "min_dist = 0.01\n",
       "resolution = 1.0\n",
       "species = 'human'\n",
       "```"
      ],
      "text/plain": [
       "<IPython.core.display.Markdown object>"
      ]
     },
     "metadata": {},
     "output_type": "display_data"
    }
   ],
   "source": [
    "%%appyter code_exec\n",
    "n_neighbors = {{ n_neighbors.raw_value }}\n",
    "min_dist = {{ min_dist.raw_value }}\n",
    "resolution = {{ resolution.raw_value }}\n",
    "species = '{{ species.raw_value }}'"
   ]
  },
  {
   "cell_type": "code",
   "execution_count": 29,
   "metadata": {},
   "outputs": [
    {
     "data": {
      "text/markdown": [
       "```python\n",
       "try:\n",
       "    lookup = ncbi_genes_lookup(organism='Mammalia/Homo_sapiens' if species == 'human' else 'Mammalia/Mus_musculus')\n",
       "except:\n",
       "    import urllib.request, json\n",
       "    with urllib.request.urlopen(\"https://s3.amazonaws.com/multiomics2paper/public/ncbi_genes_disambiguated.json\") as url:\n",
       "        ncbi_genes_disambiguated = json.load(url)\n",
       "        lookup = ncbi_genes_disambiguated.get\n",
       "mamamla_info = pd.read_csv('Mammalia/Homo_sapiens.gene_info.tsv', sep='\\t', index_col=0)\n",
       "syns = list(s.split('|') for s in mamamla_info['dbXrefs'])\n",
       "convert_dict = {}\n",
       "for syn, symbol in zip(syns, list(mamamla_info['Symbol'])):\n",
       "    if len(syn) >= 3 and syn[2].startswith('Ensembl:'):\n",
       "        convert_dict[symbol] = syn[2].split(':')[1]\n",
       "bulk_expr_df.index = bulk_expr_df.index.map(lambda x: lookup(x) if lookup(x) else x)\n",
       "plt.rcParams.update(plt.rcParamsDefault)\n",
       "```"
      ],
      "text/plain": [
       "<IPython.core.display.Markdown object>"
      ]
     },
     "metadata": {},
     "output_type": "display_data"
    }
   ],
   "source": [
    "%%appyter code_exec\n",
    "try:\n",
    "    lookup = ncbi_genes_lookup(organism='Mammalia/Homo_sapiens' if species == 'human' else 'Mammalia/Mus_musculus')\n",
    "except:\n",
    "    import urllib.request, json \n",
    "    with urllib.request.urlopen(\"https://s3.amazonaws.com/multiomics2paper/public/ncbi_genes_disambiguated.json\") as url:\n",
    "        ncbi_genes_disambiguated = json.load(url)\n",
    "        lookup = ncbi_genes_disambiguated.get\n",
    "{% if data_type.raw_value == 'bulk RNA-seq' %}\n",
    "mamamla_info = pd.read_csv('Mammalia/Homo_sapiens.gene_info.tsv', sep='\\t', index_col=0)\n",
    "syns = list(s.split('|') for s in mamamla_info['dbXrefs'])\n",
    "convert_dict = {}\n",
    "for syn, symbol in zip(syns, list(mamamla_info['Symbol'])):\n",
    "    if len(syn) >= 3 and syn[2].startswith('Ensembl:'):\n",
    "        convert_dict[symbol] = syn[2].split(':')[1]\n",
    "\n",
    "bulk_expr_df.index = bulk_expr_df.index.map(lambda x: lookup(x) if lookup(x) else x)\n",
    "{% endif %}\n",
    "\n",
    "plt.rcParams.update(plt.rcParamsDefault)"
   ]
  },
  {
   "cell_type": "code",
   "execution_count": 30,
   "metadata": {},
   "outputs": [
    {
     "data": {
      "text/markdown": [
       "\n",
       "# Visualize Bulk Samples\n",
       "Utilize UMAP [1] to visualize bulk quantile and log-normalized bulk data expression data colored by experimental condition.\n"
      ],
      "text/plain": [
       "<IPython.core.display.Markdown object>"
      ]
     },
     "metadata": {},
     "output_type": "display_data"
    }
   ],
   "source": [
    "%%appyter markdown\n",
    "{% if data_type.raw_value == 'bulk RNA-seq' %}\n",
    "# Visualize Bulk Samples\n",
    "Utilize UMAP [1] to visualize bulk quantile and log-normalized bulk data expression data colored by experimental condition.\n",
    "{% endif %}"
   ]
  },
  {
   "cell_type": "code",
   "execution_count": 31,
   "metadata": {},
   "outputs": [
    {
     "data": {
      "text/markdown": [
       "```python\n",
       "#Visualize Bulk data by UMAP, use adata for convenience\n",
       "adata = sc.AnnData(log2_normalize(qnorm.quantile_normalize(bulk_expr_df)).T.values)\n",
       "adata.var['gene_symbols'] = bulk_expr_df.index.values\n",
       "adata.obs['samples'] = bulk_expr_df.columns.values\n",
       "adata.obs['condition'] = adata.obs['samples'].map(lambda x: metadata_df.loc[x, condition_col])\n",
       "sc.pp.pca(adata, n_comps=2)\n",
       "sc.pp.neighbors(adata, n_neighbors=n_neighbors, n_pcs=2)\n",
       "sc.tl.umap(adata, min_dist=min_dist)\n",
       "sc.tl.leiden(adata, resolution=resolution)\n",
       "sc.pl.umap(adata, color='condition', legend_fontweight='normal', legend_fontsize=12, size=100, save=f'_bulk_data.png')\n",
       "sc.pl.umap(adata, color='condition', legend_fontweight='normal', legend_fontsize=12, size=100, save=f'_bulk_data.svg', show=False)\n",
       "display(Markdown(f'__Fig. {fig_counter}__. UMAP visualization of quantile and log-normalized bulk data expression data colored by experimental condition.'))\n",
       "display(FileLink('figures/umap_bulk_data.png', result_html_prefix='Download PNG: '))\n",
       "display(FileLink('figures/umap_bulk_data.svg', result_html_prefix='Download SVG: '))\n",
       "fig_counter += 1\n",
       "```"
      ],
      "text/plain": [
       "<IPython.core.display.Markdown object>"
      ]
     },
     "metadata": {},
     "output_type": "display_data"
    },
    {
     "data": {
      "image/png": "[encoded data removed]",
      "text/plain": [
       "<Figure size 640x480 with 1 Axes>"
      ]
     },
     "metadata": {
      "image/png": {
       "height": 430,
       "width": 715
      }
     },
     "output_type": "display_data"
    },
    {
     "data": {
      "text/markdown": [
       "__Fig. 2__. UMAP visualization of quantile and log-normalized bulk data expression data colored by experimental condition."
      ],
      "text/plain": [
       "<IPython.core.display.Markdown object>"
      ]
     },
     "metadata": {},
     "output_type": "display_data"
    },
    {
     "data": {
      "text/html": [
       "Download PNG: <a href='figures/umap_bulk_data.png' target='_blank'>figures/umap_bulk_data.png</a><br>"
      ],
      "text/plain": [
       "/Users/giacomomarino/SC2Targets/figures/umap_bulk_data.png"
      ]
     },
     "metadata": {},
     "output_type": "display_data"
    },
    {
     "data": {
      "text/html": [
       "Download SVG: <a href='figures/umap_bulk_data.svg' target='_blank'>figures/umap_bulk_data.svg</a><br>"
      ],
      "text/plain": [
       "/Users/giacomomarino/SC2Targets/figures/umap_bulk_data.svg"
      ]
     },
     "metadata": {},
     "output_type": "display_data"
    }
   ],
   "source": [
    "%%appyter code_exec\n",
    "{% if data_type.raw_value == 'bulk RNA-seq' %}\n",
    "\n",
    "#Visualize Bulk data by UMAP, use adata for convenience\n",
    "adata = sc.AnnData(log2_normalize(qnorm.quantile_normalize(bulk_expr_df)).T.values)\n",
    "adata.var['gene_symbols'] = bulk_expr_df.index.values\n",
    "adata.obs['samples'] = bulk_expr_df.columns.values\n",
    "adata.obs['condition'] = adata.obs['samples'].map(lambda x: metadata_df.loc[x, condition_col])\n",
    "\n",
    "sc.pp.pca(adata, n_comps=2)\n",
    "sc.pp.neighbors(adata, n_neighbors=n_neighbors, n_pcs=2)\n",
    "sc.tl.umap(adata, min_dist=min_dist)\n",
    "sc.tl.leiden(adata, resolution=resolution)\n",
    " \n",
    "sc.pl.umap(adata, color='condition', legend_fontweight='normal', legend_fontsize=12, size=100, save=f'_bulk_data.png')\n",
    "sc.pl.umap(adata, color='condition', legend_fontweight='normal', legend_fontsize=12, size=100, save=f'_bulk_data.svg', show=False)\n",
    "\n",
    "display(Markdown(f'__Fig. {fig_counter}__. UMAP visualization of quantile and log-normalized bulk data expression data colored by experimental condition.'))\n",
    "display(FileLink('figures/umap_bulk_data.png', result_html_prefix='Download PNG: '))\n",
    "display(FileLink('figures/umap_bulk_data.svg', result_html_prefix='Download SVG: '))\n",
    "fig_counter += 1\n",
    "{% endif %}"
   ]
  },
  {
   "cell_type": "code",
   "execution_count": 32,
   "metadata": {},
   "outputs": [
    {
     "data": {
      "text/markdown": [
       "\n",
       "# Deconvolution with InstaPrism\n",
       "InstaPrism [3] is a deconvolution tool based on the BayesPrism algorithm [2]. It utilizes a single cell RNA-seq cell type reference for deconvolution into cell type fractions for each bulk sample and also produces cell type specific estimated expression for each bulk sample.\n"
      ],
      "text/plain": [
       "<IPython.core.display.Markdown object>"
      ]
     },
     "metadata": {},
     "output_type": "display_data"
    }
   ],
   "source": [
    "%%appyter markdown\n",
    "{% if data_type.raw_value == 'bulk RNA-seq' %}\n",
    "# Deconvolution with InstaPrism\n",
    "InstaPrism [3] is a deconvolution tool based on the BayesPrism algorithm [2]. It utilizes a single cell RNA-seq cell type reference for deconvolution into cell type fractions for each bulk sample and also produces cell type specific estimated expression for each bulk sample.\n",
    "{% endif %}"
   ]
  },
  {
   "cell_type": "code",
   "execution_count": 33,
   "metadata": {},
   "outputs": [
    {
     "data": {
      "text/markdown": [
       "```python\n",
       "#Perform deconvolution with InstaPrism\n",
       "#ref_url: str, bulk_expr: pd.DataFrame, output_dir: str, convert_dict: dict\n",
       "ref_url = f'https://minio.dev.maayanlab.cloud/sc2targets/references/{sc_ref}.rds'\n",
       "bulk_expr_norm = log2_normalize(qnorm.quantile_normalize(bulk_expr_df))\n",
       "with suppress_output():\n",
       "    estimated_frac_df, cell_type_dfs = deconvolution_insta_prism(ref_url, bulk_expr_norm, 'results', convert_dict)\n",
       "shutil.make_archive('deconvolution_res', 'zip', 'results')\n",
       "display(FileLink('deconvolution_res.zip', result_html_prefix='Download deconvolution results: '))\n",
       "```"
      ],
      "text/plain": [
       "<IPython.core.display.Markdown object>"
      ]
     },
     "metadata": {},
     "output_type": "display_data"
    },
    {
     "data": {
      "text/html": [
       "Download deconvolution results: <a href='deconvolution_res.zip' target='_blank'>deconvolution_res.zip</a><br>"
      ],
      "text/plain": [
       "/Users/giacomomarino/SC2Targets/deconvolution_res.zip"
      ]
     },
     "metadata": {},
     "output_type": "display_data"
    }
   ],
   "source": [
    "%%appyter code_exec\n",
    "{% if data_type.raw_value == 'bulk RNA-seq' %}\n",
    "#Perform deconvolution with InstaPrism\n",
    "#ref_url: str, bulk_expr: pd.DataFrame, output_dir: str, convert_dict: dict\n",
    "ref_url = f'https://minio.dev.maayanlab.cloud/sc2targets/references/{sc_ref}.rds'\n",
    "bulk_expr_norm = log2_normalize(qnorm.quantile_normalize(bulk_expr_df))\n",
    "with suppress_output():\n",
    "    estimated_frac_df, cell_type_dfs = deconvolution_insta_prism(ref_url, bulk_expr_norm, 'results', convert_dict)\n",
    "shutil.make_archive('deconvolution_res', 'zip', 'results')\n",
    "display(FileLink('deconvolution_res.zip', result_html_prefix='Download deconvolution results: '))\n",
    "{% endif %}"
   ]
  },
  {
   "cell_type": "code",
   "execution_count": 34,
   "metadata": {},
   "outputs": [
    {
     "data": {
      "text/markdown": [
       "```python\n",
       "# visualize cell type fractions per condition\n",
       "frac_df_viz = estimated_frac_df.copy()\n",
       "frac_df_viz['condition'] = frac_df_viz.index.map(lambda x: metadata_df.loc[x, condition_col])\n",
       "frac_df_viz.reset_index(inplace=True)\n",
       "frac_df_viz.rename(columns={'index': 'sample'}, inplace=True)\n",
       "df_melted = frac_df_viz.melt(id_vars=['sample', 'condition'], var_name='cell_type', value_name='fraction')\n",
       "sns.boxplot(data=df_melted, x='condition', y='fraction', hue='cell_type', palette='Set2')\n",
       "plt.xlabel('Condition')\n",
       "plt.ylabel('Fraction')\n",
       "plt.legend(title='Cell Type', bbox_to_anchor=(1.05, 1), loc='upper left')\n",
       "plt.xticks(rotation=45)\n",
       "plt.tight_layout()\n",
       "plt.savefig('figures/cell_type_fractions.svg', dpi=300)\n",
       "plt.savefig('figures/cell_type_fractions.png', dpi=300)\n",
       "plt.show()\n",
       "display(Markdown(f'__Fig. {fig_counter}__. Cell type fractions per condition computed using the selected cell type reference and InstaPrism.'))\n",
       "display(FileLink('figures/cell_type_fractions.svg', result_html_prefix='Download SVG: '))\n",
       "display(FileLink('figures/cell_type_fractions.png', result_html_prefix='Download PNG: '))\n",
       "fig_counter += 1\n",
       "```"
      ],
      "text/plain": [
       "<IPython.core.display.Markdown object>"
      ]
     },
     "metadata": {},
     "output_type": "display_data"
    },
    {
     "data": {
      "image/png": "[encoded data removed]",
      "text/plain": [
       "<Figure size 640x480 with 1 Axes>"
      ]
     },
     "metadata": {
      "image/png": {
       "height": 469,
       "width": 618
      }
     },
     "output_type": "display_data"
    },
    {
     "data": {
      "text/markdown": [
       "__Fig. 3__. Cell type fractions per condition computed using the selected cell type reference and InstaPrism."
      ],
      "text/plain": [
       "<IPython.core.display.Markdown object>"
      ]
     },
     "metadata": {},
     "output_type": "display_data"
    },
    {
     "data": {
      "text/html": [
       "Download SVG: <a href='figures/cell_type_fractions.svg' target='_blank'>figures/cell_type_fractions.svg</a><br>"
      ],
      "text/plain": [
       "/Users/giacomomarino/SC2Targets/figures/cell_type_fractions.svg"
      ]
     },
     "metadata": {},
     "output_type": "display_data"
    },
    {
     "data": {
      "text/html": [
       "Download PNG: <a href='figures/cell_type_fractions.png' target='_blank'>figures/cell_type_fractions.png</a><br>"
      ],
      "text/plain": [
       "/Users/giacomomarino/SC2Targets/figures/cell_type_fractions.png"
      ]
     },
     "metadata": {},
     "output_type": "display_data"
    }
   ],
   "source": [
    "%%appyter code_exec\n",
    "{% if data_type.raw_value == 'bulk RNA-seq' %}\n",
    "# visualize cell type fractions per condition\n",
    "frac_df_viz = estimated_frac_df.copy()\n",
    "frac_df_viz['condition'] = frac_df_viz.index.map(lambda x: metadata_df.loc[x, condition_col])\n",
    "frac_df_viz.reset_index(inplace=True)\n",
    "frac_df_viz.rename(columns={'index': 'sample'}, inplace=True)\n",
    "df_melted = frac_df_viz.melt(id_vars=['sample', 'condition'], var_name='cell_type', value_name='fraction')\n",
    "sns.boxplot(data=df_melted, x='condition', y='fraction', hue='cell_type', palette='Set2')\n",
    "plt.xlabel('Condition')\n",
    "plt.ylabel('Fraction')\n",
    "plt.legend(title='Cell Type', bbox_to_anchor=(1.05, 1), loc='upper left')\n",
    "plt.xticks(rotation=45)\n",
    "plt.tight_layout()\n",
    "plt.savefig('figures/cell_type_fractions.svg', dpi=300)\n",
    "plt.savefig('figures/cell_type_fractions.png', dpi=300)\n",
    "plt.show()\n",
    "\n",
    "display(Markdown(f'__Fig. {fig_counter}__. Cell type fractions per condition computed using the selected cell type reference and InstaPrism.'))\n",
    "display(FileLink('figures/cell_type_fractions.svg', result_html_prefix='Download SVG: '))\n",
    "display(FileLink('figures/cell_type_fractions.png', result_html_prefix='Download PNG: '))\n",
    "fig_counter += 1\n",
    "{% endif %}"
   ]
  },
  {
   "cell_type": "code",
   "execution_count": 35,
   "metadata": {},
   "outputs": [
    {
     "data": {
      "text/markdown": [
       "```python\n",
       "pivot_df = df_melted.groupby(['condition', 'cell_type']).mean('fraction').reset_index().pivot(index='cell_type', columns='condition', values='fraction')\n",
       "pert_conditions = list(set([c for c in metadata_df[condition_col].values if c != control_cond]))\n",
       "# Calculate the difference\n",
       "for pert in pert_conditions:\n",
       "    if 'change' in pivot_df.columns:\n",
       "        pivot_df['change'] = pivot_df[pert] - pivot_df[control_cond] + pivot_df['change']\n",
       "    else:\n",
       "        pivot_df['change'] = pivot_df[pert] - pivot_df[control_cond]\n",
       "# Get the absolute change and sort\n",
       "pivot_df['abs_change'] = pivot_df['change'].abs()\n",
       "most_changed_df = pivot_df.sort_values(by='abs_change', ascending=False)\n",
       "# Display the results\n",
       "top_5 = most_changed_df.index.values[:5]\n",
       "display(most_changed_df[['change', 'abs_change']])\n",
       "display(Markdown(f'__Table. {table_counter}__. Cell types ranked by change across control and perturbed conditions.'))\n",
       "table_counter += 1\n",
       "```"
      ],
      "text/plain": [
       "<IPython.core.display.Markdown object>"
      ]
     },
     "metadata": {},
     "output_type": "display_data"
    },
    {
     "data": {
      "text/html": [
       "<div>\n",
       "<style scoped>\n",
       "    .dataframe tbody tr th:only-of-type {\n",
       "        vertical-align: middle;\n",
       "    }\n",
       "\n",
       "    .dataframe tbody tr th {\n",
       "        vertical-align: top;\n",
       "    }\n",
       "\n",
       "    .dataframe thead th {\n",
       "        text-align: right;\n",
       "    }\n",
       "</style>\n",
       "<table border=\"1\" class=\"dataframe\">\n",
       "  <thead>\n",
       "    <tr style=\"text-align: right;\">\n",
       "      <th>condition</th>\n",
       "      <th>change</th>\n",
       "      <th>abs_change</th>\n",
       "    </tr>\n",
       "    <tr>\n",
       "      <th>cell_type</th>\n",
       "      <th></th>\n",
       "      <th></th>\n",
       "    </tr>\n",
       "  </thead>\n",
       "  <tbody>\n",
       "    <tr>\n",
       "      <th>CD8-positive, alpha-beta T cell</th>\n",
       "      <td>0.013123</td>\n",
       "      <td>0.013123</td>\n",
       "    </tr>\n",
       "    <tr>\n",
       "      <th>B cell</th>\n",
       "      <td>-0.012846</td>\n",
       "      <td>0.012846</td>\n",
       "    </tr>\n",
       "    <tr>\n",
       "      <th>macrophage</th>\n",
       "      <td>0.007757</td>\n",
       "      <td>0.007757</td>\n",
       "    </tr>\n",
       "    <tr>\n",
       "      <th>kidney epithelial cell</th>\n",
       "      <td>-0.007260</td>\n",
       "      <td>0.007260</td>\n",
       "    </tr>\n",
       "    <tr>\n",
       "      <th>endothelial cell</th>\n",
       "      <td>0.005824</td>\n",
       "      <td>0.005824</td>\n",
       "    </tr>\n",
       "    <tr>\n",
       "      <th>mature NK T cell</th>\n",
       "      <td>-0.004328</td>\n",
       "      <td>0.004328</td>\n",
       "    </tr>\n",
       "    <tr>\n",
       "      <th>CD4-positive helper T cell</th>\n",
       "      <td>-0.002269</td>\n",
       "      <td>0.002269</td>\n",
       "    </tr>\n",
       "  </tbody>\n",
       "</table>\n",
       "</div>"
      ],
      "text/plain": [
       "condition                          change  abs_change\n",
       "cell_type                                            \n",
       "CD8-positive, alpha-beta T cell  0.013123    0.013123\n",
       "B cell                          -0.012846    0.012846\n",
       "macrophage                       0.007757    0.007757\n",
       "kidney epithelial cell          -0.007260    0.007260\n",
       "endothelial cell                 0.005824    0.005824\n",
       "mature NK T cell                -0.004328    0.004328\n",
       "CD4-positive helper T cell      -0.002269    0.002269"
      ]
     },
     "metadata": {},
     "output_type": "display_data"
    },
    {
     "data": {
      "text/markdown": [
       "__Table. 1__. Cell types ranked by change across control and perturbed conditions."
      ],
      "text/plain": [
       "<IPython.core.display.Markdown object>"
      ]
     },
     "metadata": {},
     "output_type": "display_data"
    }
   ],
   "source": [
    "%%appyter code_exec\n",
    "{% if data_type.raw_value == 'bulk RNA-seq' %}\n",
    "\n",
    "pivot_df = df_melted.groupby(['condition', 'cell_type']).mean('fraction').reset_index().pivot(index='cell_type', columns='condition', values='fraction')\n",
    "\n",
    "pert_conditions = list(set([c for c in metadata_df[condition_col].values if c != control_cond]))\n",
    "# Calculate the difference\n",
    "for pert in pert_conditions:\n",
    "    if 'change' in pivot_df.columns:\n",
    "        pivot_df['change'] = pivot_df[pert] - pivot_df[control_cond] + pivot_df['change']\n",
    "    else:\n",
    "        pivot_df['change'] = pivot_df[pert] - pivot_df[control_cond]\n",
    "\n",
    "# Get the absolute change and sort\n",
    "pivot_df['abs_change'] = pivot_df['change'].abs()\n",
    "most_changed_df = pivot_df.sort_values(by='abs_change', ascending=False)\n",
    "\n",
    "# Display the results\n",
    "top_5 = most_changed_df.index.values[:5]\n",
    "display(most_changed_df[['change', 'abs_change']])\n",
    "display(Markdown(f'__Table. {table_counter}__. Cell types ranked by change across control and perturbed conditions.'))\n",
    "table_counter += 1\n",
    "{% endif %}"
   ]
  },
  {
   "cell_type": "code",
   "execution_count": 36,
   "metadata": {},
   "outputs": [
    {
     "data": {
      "text/markdown": [
       "```python\n",
       "to_merge = []\n",
       "for ct in cell_type_dfs:\n",
       "    ct_name = ct.split('_Z')[0]\n",
       "    if ct_name not in top_5:\n",
       "        continue\n",
       "    ct_df = cell_type_dfs[ct]\n",
       "    ct_df.index =  ct_df.index.map(lambda x: f\"{x}_{ct_name}_{metadata_df.loc[x, condition_col]}\" if x in metadata_df.index else x)\n",
       "    ct_df = ct_df.T\n",
       "    ct_df.index = ct_df.index.map(lambda x: lookup(x) if lookup(x) else x)\n",
       "    to_merge.append(ct_df)\n",
       "bulk_ct_df = pd.concat(to_merge, axis=1)\n",
       "bulk_ct_df\n",
       "adata = sc.AnnData(log2_normalize(qnorm.quantile_normalize(bulk_ct_df)).T.values)\n",
       "adata.var['gene_symbols'] = bulk_ct_df.index.values\n",
       "adata.obs['samples'] = bulk_ct_df.columns.map(lambda x: x.split('_')[0])\n",
       "adata.obs['cell type'] = bulk_ct_df.columns.map(lambda x: x.split('_')[1])\n",
       "adata.obs['condition'] = bulk_ct_df.columns.map(lambda x: x.split('_')[2])\n",
       "sc.pp.pca(adata, n_comps=2)\n",
       "sc.pp.neighbors(adata, n_neighbors=n_neighbors, n_pcs=2)\n",
       "sc.tl.umap(adata, min_dist=min_dist)\n",
       "sc.tl.leiden(adata, resolution=resolution)\n",
       "sc.pl.umap(adata, color='condition',  legend_fontweight='normal', legend_fontsize=12, size=100, save='_condition_cell_type.png')\n",
       "sc.pl.umap(adata, color='condition',  legend_fontweight='normal', legend_fontsize=12, size=100, save='_condition_cell_type.svg', show=False)\n",
       "display(Markdown(f'__Fig. {fig_counter}__. UMAP visualization of quantile and log-normalized bulk data expression data colored by experimental condition.'))\n",
       "display(FileLink('figures/umap_condition_cell_type.png', result_html_prefix='Download PNG: '))\n",
       "display(FileLink('figures/umap_condition_cell_type.svg', result_html_prefix='Download SVG: '))\n",
       "fig_counter += 1\n",
       "sc.pl.umap(adata, color='cell type',  legend_fontweight='normal', legend_fontsize=12, size=100, save='_cell_type.png')\n",
       "sc.pl.umap(adata, color='cell type',  legend_fontweight='normal', legend_fontsize=12, size=100, save='_cell_type.svg', show=False)\n",
       "display(Markdown(f'__Fig. {fig_counter}__. UMAP visualization of quantile and log-normalized bulk data expression data colored by cell type.'))\n",
       "display(FileLink('figures/umap_cell_type.png', result_html_prefix='Download PNG: '))\n",
       "display(FileLink('figures/umap_cell_type.svg', result_html_prefix='Download SVG: '))\n",
       "fig_counter += 1\n",
       "```"
      ],
      "text/plain": [
       "<IPython.core.display.Markdown object>"
      ]
     },
     "metadata": {},
     "output_type": "display_data"
    },
    {
     "data": {
      "image/png": "[encoded data removed]",
      "text/plain": [
       "<Figure size 640x480 with 1 Axes>"
      ]
     },
     "metadata": {
      "image/png": {
       "height": 430,
       "width": 715
      }
     },
     "output_type": "display_data"
    },
    {
     "data": {
      "text/markdown": [
       "__Fig. 4__. UMAP visualization of quantile and log-normalized bulk data expression data colored by experimental condition."
      ],
      "text/plain": [
       "<IPython.core.display.Markdown object>"
      ]
     },
     "metadata": {},
     "output_type": "display_data"
    },
    {
     "data": {
      "text/html": [
       "Download PNG: <a href='figures/umap_condition_cell_type.png' target='_blank'>figures/umap_condition_cell_type.png</a><br>"
      ],
      "text/plain": [
       "/Users/giacomomarino/SC2Targets/figures/umap_condition_cell_type.png"
      ]
     },
     "metadata": {},
     "output_type": "display_data"
    },
    {
     "data": {
      "text/html": [
       "Download SVG: <a href='figures/umap_condition_cell_type.svg' target='_blank'>figures/umap_condition_cell_type.svg</a><br>"
      ],
      "text/plain": [
       "/Users/giacomomarino/SC2Targets/figures/umap_condition_cell_type.svg"
      ]
     },
     "metadata": {},
     "output_type": "display_data"
    },
    {
     "data": {
      "image/png": "[encoded data removed]",
      "text/plain": [
       "<Figure size 640x480 with 1 Axes>"
      ]
     },
     "metadata": {
      "image/png": {
       "height": 430,
       "width": 860
      }
     },
     "output_type": "display_data"
    },
    {
     "data": {
      "text/markdown": [
       "__Fig. 5__. UMAP visualization of quantile and log-normalized bulk data expression data colored by cell type."
      ],
      "text/plain": [
       "<IPython.core.display.Markdown object>"
      ]
     },
     "metadata": {},
     "output_type": "display_data"
    },
    {
     "data": {
      "text/html": [
       "Download PNG: <a href='figures/umap_cell_type.png' target='_blank'>figures/umap_cell_type.png</a><br>"
      ],
      "text/plain": [
       "/Users/giacomomarino/SC2Targets/figures/umap_cell_type.png"
      ]
     },
     "metadata": {},
     "output_type": "display_data"
    },
    {
     "data": {
      "text/html": [
       "Download SVG: <a href='figures/umap_cell_type.svg' target='_blank'>figures/umap_cell_type.svg</a><br>"
      ],
      "text/plain": [
       "/Users/giacomomarino/SC2Targets/figures/umap_cell_type.svg"
      ]
     },
     "metadata": {},
     "output_type": "display_data"
    }
   ],
   "source": [
    "%%appyter code_exec\n",
    "{% if data_type.raw_value == 'bulk RNA-seq' %}\n",
    "\n",
    "to_merge = []\n",
    "for ct in cell_type_dfs:\n",
    "    ct_name = ct.split('_Z')[0]\n",
    "    if ct_name not in top_5:\n",
    "        continue\n",
    "    ct_df = cell_type_dfs[ct]\n",
    "    ct_df.index =  ct_df.index.map(lambda x: f\"{x}_{ct_name}_{metadata_df.loc[x, condition_col]}\" if x in metadata_df.index else x)\n",
    "    ct_df = ct_df.T \n",
    "    ct_df.index = ct_df.index.map(lambda x: lookup(x) if lookup(x) else x)\n",
    "    to_merge.append(ct_df)\n",
    "bulk_ct_df = pd.concat(to_merge, axis=1)\n",
    "bulk_ct_df\n",
    "\n",
    "adata = sc.AnnData(log2_normalize(qnorm.quantile_normalize(bulk_ct_df)).T.values)\n",
    "adata.var['gene_symbols'] = bulk_ct_df.index.values\n",
    "adata.obs['samples'] = bulk_ct_df.columns.map(lambda x: x.split('_')[0])\n",
    "adata.obs['cell type'] = bulk_ct_df.columns.map(lambda x: x.split('_')[1])\n",
    "adata.obs['condition'] = bulk_ct_df.columns.map(lambda x: x.split('_')[2])\n",
    "\n",
    "sc.pp.pca(adata, n_comps=2)\n",
    "sc.pp.neighbors(adata, n_neighbors=n_neighbors, n_pcs=2)\n",
    "sc.tl.umap(adata, min_dist=min_dist)\n",
    "sc.tl.leiden(adata, resolution=resolution)\n",
    "\n",
    "sc.pl.umap(adata, color='condition',  legend_fontweight='normal', legend_fontsize=12, size=100, save='_condition_cell_type.png')\n",
    "sc.pl.umap(adata, color='condition',  legend_fontweight='normal', legend_fontsize=12, size=100, save='_condition_cell_type.svg', show=False)\n",
    "display(Markdown(f'__Fig. {fig_counter}__. UMAP visualization of quantile and log-normalized bulk data expression data colored by experimental condition.'))\n",
    "display(FileLink('figures/umap_condition_cell_type.png', result_html_prefix='Download PNG: '))\n",
    "display(FileLink('figures/umap_condition_cell_type.svg', result_html_prefix='Download SVG: '))\n",
    "fig_counter += 1\n",
    "\n",
    "sc.pl.umap(adata, color='cell type',  legend_fontweight='normal', legend_fontsize=12, size=100, save='_cell_type.png')\n",
    "sc.pl.umap(adata, color='cell type',  legend_fontweight='normal', legend_fontsize=12, size=100, save='_cell_type.svg', show=False)\n",
    "display(Markdown(f'__Fig. {fig_counter}__. UMAP visualization of quantile and log-normalized bulk data expression data colored by cell type.'))\n",
    "display(FileLink('figures/umap_cell_type.png', result_html_prefix='Download PNG: '))\n",
    "display(FileLink('figures/umap_cell_type.svg', result_html_prefix='Download SVG: '))\n",
    "fig_counter += 1\n",
    "\n",
    "{% endif %}"
   ]
  },
  {
   "cell_type": "code",
   "execution_count": 37,
   "metadata": {},
   "outputs": [],
   "source": [
    "%%appyter markdown\n",
    "{% if data_type.raw_value == 'scRNA-seq' %}\n",
    "# scRNA-seq Dataset Integration\n",
    "If two single cell profiles were uploaded, we first integrate them with Harmony [5]. Additionally, using scanpy [2], we perform standard normalization techniques.\n",
    "{% endif %}"
   ]
  },
  {
   "cell_type": "code",
   "execution_count": 38,
   "metadata": {},
   "outputs": [],
   "source": [
    "%%appyter code_exec\n",
    "{% if data_type.raw_value == 'scRNA-seq' %}\n",
    "## Identify cell types if no cell type column is provided\n",
    "if sc_data_pert:\n",
    "    anndata_concat = ad.concat([sc_data_ctrl, sc_data_pert])\n",
    "else:\n",
    "    anndata_concat = sc_data_ctrl\n",
    "\n",
    "sc.pp.filter_genes(anndata_concat, min_cells=3)\n",
    "sc.pp.filter_cells(anndata_concat, min_genes=500)\n",
    "\n",
    "# Annotate the group of mitochondrial genes as 'mt'\n",
    "sc.external.pp.scrublet(anndata_concat)\n",
    "selected_pred_doublet_removed = anndata_concat.obs[anndata_concat.obs[\"predicted_doublet\"]==False]\n",
    "anndata_concat = anndata_concat[selected_pred_doublet_removed.index]\n",
    "mito_genes = anndata_concat.var_names.str.startswith('mt-') \n",
    "\n",
    "anndata_concat.obs['percent_mito'] = np.squeeze(np.asarray(np.sum(\n",
    "    anndata_concat[:, mito_genes].X, axis=1) / np.sum(anndata_concat.X, axis=1)))\n",
    "selected_pred = anndata_concat.obs[anndata_concat.obs.percent_mito < 0.05]\n",
    "anndata_concat = anndata_concat[selected_pred.index]\n",
    "\n",
    "sc.pp.normalize_total(anndata_concat, target_sum=1e4)\n",
    "sc.pp.log1p(anndata_concat)\n",
    "sc.pp.highly_variable_genes(anndata_concat, n_top_genes=2000)\n",
    "sc.pp.pca(anndata_concat)\n",
    "if sc_data_pert:\n",
    "    sce.pp.harmony_integrate(anndata_concat, 'replicate')\n",
    "    sc.pp.neighbors(anndata_concat, n_neighbors=n_neighbors, use_rep='X_pca_harmony')\n",
    "else:\n",
    "    sc.pp.neighbors(anndata_concat, n_neighbors=n_neighbors)\n",
    "sc.tl.umap(anndata_concat, min_dist=min_dist)\n",
    "sc.tl.leiden(anndata_concat, resolution=resolution)\n",
    "{% endif %}"
   ]
  },
  {
   "cell_type": "code",
   "execution_count": 39,
   "metadata": {},
   "outputs": [],
   "source": [
    "%%appyter code_exec\n",
    "{% if data_type.raw_value == 'scRNA-seq' %}\n",
    "with plt.rc_context({\"figure.figsize\": (2, 2), \"figure.dpi\": (300), \"font.size\": 8, 'legend.markerscale': .5, 'legend.fontsize': 3}):\n",
    "    sc.pl.umap(anndata_concat, color='replicate', title='',\n",
    "             legend_fontweight='normal', legend_fontsize=6, save='_leiden_integrated_rep.png')\n",
    "    sc.pl.umap(anndata_concat, color='replicate', title='',\n",
    "             legend_fontweight='normal', legend_fontsize=6, save='_leiden_integrated_rep.svg', show=False)\n",
    "display(Markdown(f'__Fig. {fig_counter}__. UMAP visualization of harmonized single cell datasets, colored by replicate.'))\n",
    "display(FileLink('figures/umap_leiden_integrated_rep.png', result_html_prefix='Download PNG: '))\n",
    "display(FileLink('figures/umap_leiden_integrated_rep.svg', result_html_prefix='Download SVG: '))\n",
    "fig_counter += 1\n",
    "\n",
    "with plt.rc_context({\"figure.figsize\": (2, 2), \"figure.dpi\": (300), \"font.size\": 8, 'legend.markerscale': .5, 'legend.fontsize': 3}):\n",
    "        sc.pl.umap(anndata_concat, color='Group', title='',\n",
    "                 legend_fontweight='normal', legend_fontsize=6, save='_leiden_integrated_group.png')\n",
    "        sc.pl.umap(anndata_concat, color='Group', title='',\n",
    "                legend_fontweight='normal', legend_fontsize=6, save='_leiden_integrated_group.svg', show=False)\n",
    "\n",
    "display(Markdown(f'__Fig. {fig_counter}__. UMAP visualization of harmonized single cell datasets, colored by group.'))\n",
    "display(FileLink('figures/umap_leiden_integrated_group.png', result_html_prefix='Download PNG: '))\n",
    "display(FileLink('figures/umap_leiden_integrated_group.svg', result_html_prefix='Download SVG: '))\n",
    "fig_counter += 1\n",
    "{% endif %}"
   ]
  },
  {
   "cell_type": "code",
   "execution_count": 40,
   "metadata": {},
   "outputs": [],
   "source": [
    "%%appyter markdown\n",
    "{% if data_type.raw_value == 'scRNA-seq' %}\n",
    "# Cell Type Identification\n",
    "To identify cell types, first cells in the integrated profile are clustered using UMAP [4] and the Leiden algorithm [6]. Canonical cell type makers are sourced from PanglaoDB [7] and are used for enrichment analysis and visualization of inferred cell types using decoupleR [8] based on overrepresented markers. Cell types which exhibit the least cluster coherence across the conditions are then prioritized for the downstream analysis.\n",
    "{% endif %}"
   ]
  },
  {
   "cell_type": "code",
   "execution_count": 41,
   "metadata": {},
   "outputs": [],
   "source": [
    "%%appyter code_exec\n",
    "{% if data_type.raw_value == 'scRNA-seq' %}\n",
    "markers = pd.read_csv('https://minio.dev.maayanlab.cloud/sc2targets/PanglaoDB_markers_27_Mar_2020.tsv', sep='\\t')\n",
    "# Filter by canonical_marker and human\n",
    "markers['human'] = markers['species'].str.contains('Hs')\n",
    "markers['mouse'] = markers['species'].str.contains('Mm')\n",
    "markers = markers[markers[species] & (markers['canonical marker'] == 1) & (markers[f'sensitivity_{species}'] > 0.5)]\n",
    "markers = markers[~markers.duplicated(['cell type', 'official gene symbol'])]\n",
    "markers.rename(columns={'cell type': 'cell_type', 'official gene symbol': 'genesymbol'}, inplace=True)\n",
    "if species == 'mouse':\n",
    "    markers['genesymbol'] = markers['genesymbol'].map(lambda x: x.lower().capitalize())\n",
    "markers\n",
    "\n",
    "dc.run_ora(\n",
    "    mat=anndata_concat,\n",
    "    net=markers,\n",
    "    source='cell_type',\n",
    "    target='genesymbol',\n",
    "    min_n=3,\n",
    "    verbose=True,\n",
    "    use_raw=False\n",
    ")\n",
    "\n",
    "{% endif %}"
   ]
  },
  {
   "cell_type": "code",
   "execution_count": 42,
   "metadata": {},
   "outputs": [],
   "source": [
    "%%appyter code_exec\n",
    "{% if data_type.raw_value == 'scRNA-seq' %}\n",
    "acts = dc.get_acts(anndata_concat, obsm_key='ora_estimate')\n",
    "sc_cell_types = dc.rank_sources_groups(acts, groupby='leiden', reference='rest', method='t-test_overestim_var')\n",
    "n_ctypes = 3\n",
    "ctypes_dict = sc_cell_types.groupby('group').head(n_ctypes).groupby('group')['names'].apply(lambda x: list(x)).to_dict()\n",
    "{% endif %}"
   ]
  },
  {
   "cell_type": "code",
   "execution_count": 43,
   "metadata": {},
   "outputs": [],
   "source": [
    "%%appyter code_exec\n",
    "{% if data_type.raw_value == 'scRNA-seq' %}\n",
    "sc.pl.matrixplot(acts, ctypes_dict, 'leiden', dendrogram=True, standard_scale='var',\n",
    "                colorbar_title='Z-scaled scores', cmap='RdBu_r', save='cell_types.png', figsize=(8, 4))\n",
    "sc.pl.matrixplot(acts, ctypes_dict, 'leiden', dendrogram=True, standard_scale='var',\n",
    "                colorbar_title='Z-scaled scores', cmap='RdBu_r', save='cell_types.svg', figsize=(8, 4), show=False)\n",
    "display(Markdown(f'__Fig. {fig_counter}__. Matrix visualization of scRNA-seq leiden cluster cell type enrichments.'))\n",
    "display(FileLink('figures/matrixplot_cell_types.png', result_html_prefix='Download PNG: '))\n",
    "display(FileLink('figures/matrixplot_cell_types.svg', result_html_prefix='Download SVG: '))\n",
    "fig_counter += 1\n",
    "{% endif %}"
   ]
  },
  {
   "cell_type": "code",
   "execution_count": 44,
   "metadata": {},
   "outputs": [],
   "source": [
    "%%appyter code_exec\n",
    "{% if data_type.raw_value == 'scRNA-seq' %}\n",
    "\n",
    "annotation_dict = sc_cell_types.groupby('group').head(1).set_index('group')['names'].to_dict()\n",
    "anndata_concat.obs['cell_type'] = [annotation_dict[clust] for clust in anndata_concat.obs['leiden']]\n",
    "{% endif %}"
   ]
  },
  {
   "cell_type": "code",
   "execution_count": 45,
   "metadata": {},
   "outputs": [],
   "source": [
    "%%appyter code_exec\n",
    "{% if data_type.raw_value == 'scRNA-seq' %}\n",
    "sc.pl.umap(anndata_concat, color='cell_type', save='_cell_types.png')\n",
    "sc.pl.umap(anndata_concat, color='cell_type', save='_cell_types.svg', show=False)\n",
    "display(Markdown(f'__Fig. {fig_counter}__. UMAP visualization of scRNA-seq cell types for the control profile.'))\n",
    "display(FileLink('figures/umap_cell_types.png', result_html_prefix='Download PNG: '))\n",
    "display(FileLink('figures/umap_cell_types.svg', result_html_prefix='Download SVG: '))\n",
    "fig_counter += 1\n",
    "{% endif %}"
   ]
  },
  {
   "cell_type": "code",
   "execution_count": 46,
   "metadata": {},
   "outputs": [],
   "source": [
    "%%appyter code_exec\n",
    "{% if data_type.raw_value == 'scRNA-seq' %}\n",
    "## Compute Centroids Per Cell Type & Condition\n",
    "from sklearn.metrics import silhouette_score\n",
    "centriods = {}\n",
    "scores = []\n",
    "total_cells = anndata_concat.shape[0]\n",
    "for ct in anndata_concat.obs['cell_type'].unique():\n",
    "    centriods[ct] = {}\n",
    "    if anndata_concat.obs[anndata_concat.obs['cell_type'] == ct].shape[0] >= (total_cells*.02):\n",
    "        for cond in anndata_concat.obs['Group'].unique():\n",
    "            cells = anndata_concat[(anndata_concat.obs['cell_type'] == ct) & (anndata_concat.obs['Group'] == cond)]\n",
    "            centriods[ct][cond] = cells.obsm['X_umap']\n",
    "        labels = np.concatenate([np.zeros(centriods[ct][control_cond].shape[0]), np.ones(centriods[ct][pert_cond].shape[0])])\n",
    "        scores.append([ct, silhouette_score(np.concatenate([centriods[ct][control_cond], centriods[ct][pert_cond]], axis=0), labels=labels)])\n",
    "    \n",
    "ct_diff = pd.DataFrame(scores, columns=['Cell Type', 'Silhouette Score']).set_index('Cell Type').sort_values('Silhouette Score', ascending=True)\n",
    "top_5 = list(ct_diff.index.values[:5])\n",
    "ct_diff.to_csv('results/ct_silhouette_scores.csv')\n",
    "display(ct_diff)\n",
    "display(Markdown(f'__Table. {table_counter}__. Silhouette scores for cell type comparing normal and perturbation groups.'))\n",
    "display(FileLink('results/ct_silhouette_scores.csv', result_html_prefix='Download CSV: '))\n",
    "{% endif %}"
   ]
  },
  {
   "cell_type": "code",
   "execution_count": 47,
   "metadata": {},
   "outputs": [],
   "source": [
    "%%appyter code_exec\n",
    "{% if data_type.raw_value == 'scRNA-seq' %}\n",
    "\n",
    "## get three representative samples per overlapping cell type\n",
    "data_pert = []\n",
    "sample_names_pert = []\n",
    "\n",
    "data_ctrl = []\n",
    "sample_names_ctrl = []\n",
    "# get indices of shared genes for each mat\n",
    "\n",
    "for ct in top_5:\n",
    "    ## extract counts from samples matching the cell type:\n",
    "    ct_cells = anndata_concat[(anndata_concat.obs['cell_type'] == ct) & (anndata_concat.obs['Group'] == pert_cond)].X.transpose()\n",
    "    n_cells = ct_cells.shape[1]\n",
    "    for i in range(3):\n",
    "        rand_idx = np.random.choice(list(range(n_cells)), n_cells // 2, replace=False)\n",
    "        ct_cells_rand_samp = ct_cells[:, rand_idx].sum(axis=1)\n",
    "        data_pert.append(ct_cells_rand_samp)\n",
    "        sample_names_pert.append(f'pert_{ct}_{i + 1}')\n",
    "    \n",
    "    ct_cells = anndata_concat[(anndata_concat.obs['cell_type'] == ct) & (anndata_concat.obs['Group'] == control_cond)].X.transpose()\n",
    "    n_cells = ct_cells.shape[1]\n",
    "    for i in range(3):\n",
    "        rand_idx = np.random.choice(list(range(n_cells)), n_cells // 2, replace=False)\n",
    "        ct_cells_rand_samp = ct_cells[:, rand_idx].sum(axis=1)\n",
    "        data_ctrl.append(ct_cells_rand_samp)\n",
    "        sample_names_ctrl.append(f'ctrl_{ct}_{i + 1}')\n",
    "\n",
    "sim_bulk_pert = pd.DataFrame(data=data_pert, index=sample_names_pert, columns=anndata_concat.var_names).T\n",
    "sim_bulk_ctrl = pd.DataFrame(data=data_ctrl, index=sample_names_ctrl, columns=anndata_concat.var_names).T\n",
    "bulk_ct_df = pd.merge(sim_bulk_pert, sim_bulk_ctrl, left_index=True, right_index=True)\n",
    "bulk_ct_df.to_csv('results/bulk_ct_df.csv')\n",
    "display(bulk_ct_df)\n",
    "display(Markdown(f'__Table. {table_counter}__. Three representative samples per overlapping cell type in the control and perturbation profiles.'))\n",
    "display(FileLink('results/bulk_ct_df.csv', result_html_prefix='Download CSV: '))\n",
    "table_counter += 1\n",
    "{% endif %}"
   ]
  },
  {
   "cell_type": "code",
   "execution_count": 48,
   "metadata": {},
   "outputs": [],
   "source": [
    "targets = {}\n",
    "if species == 'mouse':\n",
    "    lookup = ncbi_genes_lookup(organism='Mammalia/Mus_musculus')\n",
    "    bgs = {'ARCHS4': 'Mammalia/Mus_musculus/archs4-gene-stats.tsv', 'Tabula Muris': 'Mammalia/Mus_musculus/tabula-muris-gene-stats.tsv' }\n",
    "else:\n",
    "    lookup = ncbi_genes_lookup()\n",
    "    bgs = {'GTEx': 'gtex-gene-stats.tsv', 'ARCHS4': 'archs4-gene-stats.tsv', 'TS': 'ts_10x_cell-ontology-class_donors_tissue-labels_v1.tsv'}"
   ]
  },
  {
   "cell_type": "code",
   "execution_count": 49,
   "metadata": {},
   "outputs": [
    {
     "data": {
      "text/markdown": [
       "\n",
       "# Target Identification\n",
       "\n",
       "To identify highly expressed membrane targets on perturbed cell types, we utilize TargetRanger [4], a collection of heathy tissue and cell type atlases. TargetRanger works by finding genes highly expressed in perturbed cell types that are lowly expressed across healthy cell types and tissues. Additionally, we filter targets identified for the control profiles of each cell type to uniquely target diseased cell types.\n"
      ],
      "text/plain": [
       "<IPython.core.display.Markdown object>"
      ]
     },
     "metadata": {},
     "output_type": "display_data"
    }
   ],
   "source": [
    "%%appyter markdown\n",
    "\n",
    "# Target Identification\n",
    "{% if data_type.raw_value == 'scRNA-seq' %}\n",
    "To identify highly expressed membrane targets on perturbed cell types, we utilize TargetRanger [9], a collection of heathy tissue and cell type atlases. TargetRanger works by finding genes highly expressed in perturbed cell types that are lowly expressed across healthy cell types and tissues. Additionally, we filter targets identified for the control profiles of each cell type to uniquely target diseased cell types.\n",
    "{% elif data_type.raw_value == 'bulk RNA-seq' %}\n",
    "To identify highly expressed membrane targets on perturbed cell types, we utilize TargetRanger [4], a collection of heathy tissue and cell type atlases. TargetRanger works by finding genes highly expressed in perturbed cell types that are lowly expressed across healthy cell types and tissues. Additionally, we filter targets identified for the control profiles of each cell type to uniquely target diseased cell types.\n",
    "{% endif %}"
   ]
  },
  {
   "cell_type": "code",
   "execution_count": 50,
   "metadata": {},
   "outputs": [],
   "source": [
    "def find_targets(rna_df, bg, targets):\n",
    "    df_bg_stats = pd.read_csv(f\"https://appyters.maayanlab.cloud/storage/Tumor_Gene_Target_Screener/{bgs[bg]}\", sep='\\t', index_col=[0,1])\n",
    "    df_bg_genes = df_bg_stats.unstack().index.map(lambda idx: lookup(idx.partition('.')[0]))\n",
    "    df_bg_stats = df_bg_stats.unstack().groupby(df_bg_genes, observed=True).median().stack()\n",
    "    df_bg_expr = df_bg_stats.loc[(slice(None), ['25%', '50%', '75%']), :].unstack()\n",
    "    common_index = list(set(rna_df.index) & set(df_bg_expr.index))\n",
    "    expr_df = rna_df.loc[common_index, :]\n",
    "    index_name = expr_df.index.name\n",
    "    expr_df.reset_index(inplace=True)\n",
    "    expr_df.drop_duplicates(subset=index_name, inplace=True)\n",
    "    expr_df.set_index(index_name, inplace=True, drop=True)\n",
    "    target_distribution = df_bg_expr.loc[common_index, :].median(axis=1)\n",
    "    df_expr_norm = qnorm.quantile_normalize(expr_df.loc[common_index, :], target=target_distribution)\n",
    "    df_bg_expr_norm = qnorm.quantile_normalize(df_bg_expr.loc[common_index, :], target=target_distribution)\n",
    "    for ct in tqdm(top_5):\n",
    "        if ct not in targets: targets[ct] = {}\n",
    "        ct_pert_samples = list(filter(lambda x: ct in x and 'pert' in x, bulk_ct_df.columns))\n",
    "        ct_ctrl_samples = list(filter(lambda x: ct in x and 'ctrl' in x, bulk_ct_df.columns))\n",
    "        with suppress_output():\n",
    "            df_bg_expr_norm.columns = df_bg_expr_norm.columns.to_flat_index().map(lambda s: ', '.join(s))\n",
    "            dge_pert = ttest_differential_expression(\n",
    "                df_bg_expr_norm, df_expr_norm[ct_pert_samples],\n",
    "                log2norm=False,\n",
    "            )\n",
    "            dge_ctrl = ttest_differential_expression(\n",
    "                df_bg_expr_norm, df_expr_norm[ct_ctrl_samples],\n",
    "                log2norm=False,\n",
    "            )\n",
    "            overlapping_pert_norm = set(dge_pert[(dge_pert['AdjPval'] < 0.01) & (dge_pert['Statistic'] > 0)].sort_values('Statistic', ascending=False).index.values).difference(set(dge_ctrl[(dge_ctrl['AdjPval'] < 0.01) & (dge_ctrl['Statistic'] > 0)].sort_values('Statistic', ascending=False).index.values))\n",
    "            targets[ct][bg] = list(dge_pert[(dge_pert['AdjPval'] < 0.01) & (dge_pert['Statistic'] > 0) & (~dge_pert.index.isin(overlapping_pert_norm))].sort_values('Statistic', ascending=False).index.values)\n",
    "\n",
    "def find_targets_multiple_pert(rna_df, bg, targets, control_cond, pert_conditions):\n",
    "    df_bg_stats = pd.read_csv(f\"https://appyters.maayanlab.cloud/storage/Tumor_Gene_Target_Screener/{bgs[bg]}\", sep='\\t', index_col=[0,1])\n",
    "    df_bg_genes = df_bg_stats.unstack().index.map(lambda idx: lookup(idx.partition('.')[0]))\n",
    "    df_bg_stats = df_bg_stats.unstack().groupby(df_bg_genes, observed=True).median().stack()\n",
    "    df_bg_expr = df_bg_stats.loc[(slice(None), ['25%', '50%', '75%']), :].unstack()\n",
    "    common_index = list(set(rna_df.index) & set(df_bg_expr.index))\n",
    "    expr_df = rna_df.loc[common_index, :]\n",
    "    index_name = expr_df.index.name\n",
    "    if index_name == None:\n",
    "        expr_df.index.name = 'gene_name'\n",
    "        index_name = 'gene_name'\n",
    "    expr_df.reset_index(inplace=True)\n",
    "    expr_df.drop_duplicates(subset=index_name, inplace=True)\n",
    "    expr_df.set_index(index_name, inplace=True, drop=True)\n",
    "    target_distribution = df_bg_expr.loc[common_index, :].median(axis=1)\n",
    "    df_expr_norm = qnorm.quantile_normalize(expr_df.loc[common_index, :], target=target_distribution)\n",
    "    df_bg_expr_norm = qnorm.quantile_normalize(df_bg_expr.loc[common_index, :], target=target_distribution)\n",
    "    df_bg_expr_norm.columns = df_bg_expr_norm.columns.to_flat_index().map(lambda s: ', '.join(s))\n",
    "    for ct in tqdm(top_5):\n",
    "        ct_ctrl_samples = list(filter(lambda x: ct in x and control_cond in x, bulk_ct_df.columns))\n",
    "        with suppress_output():\n",
    "            dge_ctrl = ttest_differential_expression(\n",
    "                df_bg_expr_norm, df_expr_norm[ct_ctrl_samples],\n",
    "                log2norm=False,\n",
    "            )\n",
    "            for pert in pert_conditions:\n",
    "                if f\"{ct}-{pert}\" not in targets: targets[f\"{ct}-{pert}\"] = {}\n",
    "                ct_pert_samples = list(filter(lambda x: ct in x and pert in x, bulk_ct_df.columns))\n",
    "                dge_pert = ttest_differential_expression(\n",
    "                    df_bg_expr_norm, df_expr_norm[ct_pert_samples],\n",
    "                    log2norm=False,\n",
    "                )\n",
    "                overlapping_pert_norm = set(dge_pert[(dge_pert['AdjPval'] < 0.01) & (dge_pert['Statistic'] > 0)].sort_values('Statistic', ascending=False).index.values).difference(set(dge_ctrl[(dge_ctrl['AdjPval'] < 0.01) & (dge_ctrl['Statistic'] > 0)].sort_values('Statistic', ascending=False).index.values))\n",
    "                targets[f\"{ct}-{pert}\"][bg] = list(dge_pert[(dge_pert['AdjPval'] < 0.01) & (dge_pert['Statistic'] > 0) & (~dge_pert.index.isin(overlapping_pert_norm))].sort_values('Statistic', ascending=False).index.values)\n"
   ]
  },
  {
   "cell_type": "code",
   "execution_count": 51,
   "metadata": {},
   "outputs": [
    {
     "data": {
      "text/markdown": [
       "```python\n",
       "if species == 'human':\n",
       "    print('Finding Targets using ARCHS4')\n",
       "    find_targets_multiple_pert(bulk_ct_df, 'ARCHS4', targets, control_cond, pert_conditions)\n",
       "    print('Finding Targets using GTEx')\n",
       "    find_targets_multiple_pert(bulk_ct_df, 'GTEx', targets, control_cond, pert_conditions)\n",
       "    print('Finding Targets using Tabula Sapiens')\n",
       "    find_targets_multiple_pert(bulk_ct_df, 'TS', targets, control_cond, pert_conditions)\n",
       "elif species == 'mouse':\n",
       "    print('Finding Targets using ARCHS4')\n",
       "    find_targets_multiple_pert(bulk_ct_df, 'ARCHS4', targets, control_cond, pert_conditions)\n",
       "    print('Finding Targets using Tabula Muris')\n",
       "    find_targets_multiple_pert(bulk_ct_df, 'Tabula Muris', targets, control_cond, pert_conditions)\n",
       "```"
      ],
      "text/plain": [
       "<IPython.core.display.Markdown object>"
      ]
     },
     "metadata": {},
     "output_type": "display_data"
    },
    {
     "name": "stdout",
     "output_type": "stream",
     "text": [
      "Finding Targets using ARCHS4\n"
     ]
    },
    {
     "name": "stderr",
     "output_type": "stream",
     "text": [
      "  0%|          | 0/5 [00:00<?, ?it/s]\n"
     ]
    },
    {
     "data": {
      "text/html": [
       "<div style='color: red'>Error: Length of values (4) does not match length of index (15076)</div>"
      ],
      "text/plain": [
       "<IPython.core.display.HTML object>"
      ]
     },
     "metadata": {},
     "output_type": "display_data"
    }
   ],
   "source": [
    "%%appyter code_exec\n",
    "if species == 'human': \n",
    "{% if data_type.raw_value == 'scRNA-seq' %}\n",
    "    print('Finding Targets using ARCHS4')\n",
    "    find_targets(bulk_ct_df, 'ARCHS4', targets)  \n",
    "    print('Finding Targets using GTEx')\n",
    "    find_targets(bulk_ct_df, 'GTEx', targets)\n",
    "    print('Finding Targets using Tabula Sapiens')\n",
    "    find_targets(bulk_ct_df, 'TS', targets)\n",
    "{% elif data_type.raw_value == 'bulk RNA-seq' %}\n",
    "    print('Finding Targets using ARCHS4')\n",
    "    find_targets_multiple_pert(bulk_ct_df, 'ARCHS4', targets, control_cond, pert_conditions)\n",
    "    print('Finding Targets using GTEx')\n",
    "    find_targets_multiple_pert(bulk_ct_df, 'GTEx', targets, control_cond, pert_conditions)\n",
    "    print('Finding Targets using Tabula Sapiens')\n",
    "    find_targets_multiple_pert(bulk_ct_df, 'TS', targets, control_cond, pert_conditions)\n",
    "{% endif %}\n",
    "elif species == 'mouse':\n",
    "{% if data_type.raw_value == 'scRNA-seq' %}\n",
    "    print('Finding Targets using ARCHS4')\n",
    "    find_targets(bulk_ct_df, 'ARCHS4', targets)\n",
    "    print('Finding Targets using Tabula Muris')\n",
    "    find_targets(bulk_ct_df, 'Tabula Muris', targets)\n",
    "{% elif data_type.raw_value == 'bulk RNA-seq' %}\n",
    "    print('Finding Targets using ARCHS4')\n",
    "    find_targets_multiple_pert(bulk_ct_df, 'ARCHS4', targets, control_cond, pert_conditions)\n",
    "    print('Finding Targets using Tabula Muris')\n",
    "    find_targets_multiple_pert(bulk_ct_df, 'Tabula Muris', targets, control_cond, pert_conditions)\n",
    "{% endif %}"
   ]
  },
  {
   "cell_type": "code",
   "execution_count": 52,
   "metadata": {},
   "outputs": [
    {
     "ename": "ValueError",
     "evalue": "Length mismatch: Expected axis has 1 elements, new values have 0 elements",
     "output_type": "error",
     "traceback": [
      "\u001b[0;31m---------------------------------------------------------------------------\u001b[0m",
      "\u001b[0;31mValueError\u001b[0m                                Traceback (most recent call last)",
      "Cell \u001b[0;32mIn[52], line 36\u001b[0m\n\u001b[1;32m     33\u001b[0m data \u001b[38;5;241m=\u001b[39m np\u001b[38;5;241m.\u001b[39madd(np\u001b[38;5;241m.\u001b[39madd(data1, data2), data3)\n\u001b[1;32m     35\u001b[0m membrane_target_mat \u001b[38;5;241m=\u001b[39m pd\u001b[38;5;241m.\u001b[39mDataFrame(data)\n\u001b[0;32m---> 36\u001b[0m \u001b[43mmembrane_target_mat\u001b[49m\u001b[38;5;241;43m.\u001b[39;49m\u001b[43mcolumns\u001b[49m \u001b[38;5;241m=\u001b[39m \u001b[38;5;28mlist\u001b[39m(targets\u001b[38;5;241m.\u001b[39mkeys())\n\u001b[1;32m     37\u001b[0m membrane_target_mat\u001b[38;5;241m.\u001b[39mindex \u001b[38;5;241m=\u001b[39m target_list\n\u001b[1;32m     39\u001b[0m membrane_target_mat[\u001b[38;5;124m'\u001b[39m\u001b[38;5;124mcount\u001b[39m\u001b[38;5;124m'\u001b[39m] \u001b[38;5;241m=\u001b[39m membrane_target_mat\u001b[38;5;241m.\u001b[39msum(axis\u001b[38;5;241m=\u001b[39m\u001b[38;5;241m1\u001b[39m)\n",
      "File \u001b[0;32m~/SC2Targets/venv/lib/python3.9/site-packages/pandas/core/generic.py:6313\u001b[0m, in \u001b[0;36mNDFrame.__setattr__\u001b[0;34m(self, name, value)\u001b[0m\n\u001b[1;32m   6311\u001b[0m \u001b[38;5;28;01mtry\u001b[39;00m:\n\u001b[1;32m   6312\u001b[0m     \u001b[38;5;28mobject\u001b[39m\u001b[38;5;241m.\u001b[39m\u001b[38;5;21m__getattribute__\u001b[39m(\u001b[38;5;28mself\u001b[39m, name)\n\u001b[0;32m-> 6313\u001b[0m     \u001b[38;5;28;01mreturn\u001b[39;00m \u001b[38;5;28;43mobject\u001b[39;49m\u001b[38;5;241;43m.\u001b[39;49m\u001b[38;5;21;43m__setattr__\u001b[39;49m\u001b[43m(\u001b[49m\u001b[38;5;28;43mself\u001b[39;49m\u001b[43m,\u001b[49m\u001b[43m \u001b[49m\u001b[43mname\u001b[49m\u001b[43m,\u001b[49m\u001b[43m \u001b[49m\u001b[43mvalue\u001b[49m\u001b[43m)\u001b[49m\n\u001b[1;32m   6314\u001b[0m \u001b[38;5;28;01mexcept\u001b[39;00m \u001b[38;5;167;01mAttributeError\u001b[39;00m:\n\u001b[1;32m   6315\u001b[0m     \u001b[38;5;28;01mpass\u001b[39;00m\n",
      "File \u001b[0;32mproperties.pyx:69\u001b[0m, in \u001b[0;36mpandas._libs.properties.AxisProperty.__set__\u001b[0;34m()\u001b[0m\n",
      "File \u001b[0;32m~/SC2Targets/venv/lib/python3.9/site-packages/pandas/core/generic.py:814\u001b[0m, in \u001b[0;36mNDFrame._set_axis\u001b[0;34m(self, axis, labels)\u001b[0m\n\u001b[1;32m    809\u001b[0m \u001b[38;5;250m\u001b[39m\u001b[38;5;124;03m\"\"\"\u001b[39;00m\n\u001b[1;32m    810\u001b[0m \u001b[38;5;124;03mThis is called from the cython code when we set the `index` attribute\u001b[39;00m\n\u001b[1;32m    811\u001b[0m \u001b[38;5;124;03mdirectly, e.g. `series.index = [1, 2, 3]`.\u001b[39;00m\n\u001b[1;32m    812\u001b[0m \u001b[38;5;124;03m\"\"\"\u001b[39;00m\n\u001b[1;32m    813\u001b[0m labels \u001b[38;5;241m=\u001b[39m ensure_index(labels)\n\u001b[0;32m--> 814\u001b[0m \u001b[38;5;28;43mself\u001b[39;49m\u001b[38;5;241;43m.\u001b[39;49m\u001b[43m_mgr\u001b[49m\u001b[38;5;241;43m.\u001b[39;49m\u001b[43mset_axis\u001b[49m\u001b[43m(\u001b[49m\u001b[43maxis\u001b[49m\u001b[43m,\u001b[49m\u001b[43m \u001b[49m\u001b[43mlabels\u001b[49m\u001b[43m)\u001b[49m\n\u001b[1;32m    815\u001b[0m \u001b[38;5;28mself\u001b[39m\u001b[38;5;241m.\u001b[39m_clear_item_cache()\n",
      "File \u001b[0;32m~/SC2Targets/venv/lib/python3.9/site-packages/pandas/core/internals/managers.py:238\u001b[0m, in \u001b[0;36mBaseBlockManager.set_axis\u001b[0;34m(self, axis, new_labels)\u001b[0m\n\u001b[1;32m    236\u001b[0m \u001b[38;5;28;01mdef\u001b[39;00m \u001b[38;5;21mset_axis\u001b[39m(\u001b[38;5;28mself\u001b[39m, axis: AxisInt, new_labels: Index) \u001b[38;5;241m-\u001b[39m\u001b[38;5;241m>\u001b[39m \u001b[38;5;28;01mNone\u001b[39;00m:\n\u001b[1;32m    237\u001b[0m     \u001b[38;5;66;03m# Caller is responsible for ensuring we have an Index object.\u001b[39;00m\n\u001b[0;32m--> 238\u001b[0m     \u001b[38;5;28;43mself\u001b[39;49m\u001b[38;5;241;43m.\u001b[39;49m\u001b[43m_validate_set_axis\u001b[49m\u001b[43m(\u001b[49m\u001b[43maxis\u001b[49m\u001b[43m,\u001b[49m\u001b[43m \u001b[49m\u001b[43mnew_labels\u001b[49m\u001b[43m)\u001b[49m\n\u001b[1;32m    239\u001b[0m     \u001b[38;5;28mself\u001b[39m\u001b[38;5;241m.\u001b[39maxes[axis] \u001b[38;5;241m=\u001b[39m new_labels\n",
      "File \u001b[0;32m~/SC2Targets/venv/lib/python3.9/site-packages/pandas/core/internals/base.py:98\u001b[0m, in \u001b[0;36mDataManager._validate_set_axis\u001b[0;34m(self, axis, new_labels)\u001b[0m\n\u001b[1;32m     95\u001b[0m     \u001b[38;5;28;01mpass\u001b[39;00m\n\u001b[1;32m     97\u001b[0m \u001b[38;5;28;01melif\u001b[39;00m new_len \u001b[38;5;241m!=\u001b[39m old_len:\n\u001b[0;32m---> 98\u001b[0m     \u001b[38;5;28;01mraise\u001b[39;00m \u001b[38;5;167;01mValueError\u001b[39;00m(\n\u001b[1;32m     99\u001b[0m         \u001b[38;5;124mf\u001b[39m\u001b[38;5;124m\"\u001b[39m\u001b[38;5;124mLength mismatch: Expected axis has \u001b[39m\u001b[38;5;132;01m{\u001b[39;00mold_len\u001b[38;5;132;01m}\u001b[39;00m\u001b[38;5;124m elements, new \u001b[39m\u001b[38;5;124m\"\u001b[39m\n\u001b[1;32m    100\u001b[0m         \u001b[38;5;124mf\u001b[39m\u001b[38;5;124m\"\u001b[39m\u001b[38;5;124mvalues have \u001b[39m\u001b[38;5;132;01m{\u001b[39;00mnew_len\u001b[38;5;132;01m}\u001b[39;00m\u001b[38;5;124m elements\u001b[39m\u001b[38;5;124m\"\u001b[39m\n\u001b[1;32m    101\u001b[0m     )\n",
      "\u001b[0;31mValueError\u001b[0m: Length mismatch: Expected axis has 1 elements, new values have 0 elements"
     ]
    }
   ],
   "source": [
    "proteins = pd.read_csv('https://appyters.maayanlab.cloud/storage/Tumor_Gene_Target_Screener/surfaceome.csv')\n",
    "membrane_proteins = list(proteins['genename'].dropna().values)\n",
    "\n",
    "if species == 'human':\n",
    "    sc.set_figure_params(scanpy=False)\n",
    "    YlGnBu = cm.get_cmap('YlGnBu_r', 8)\n",
    "    cmap = {\"None\":YlGnBu(0), \"ARCHS4\": YlGnBu(1), \"GTEx\":YlGnBu(2), \"TS\": YlGnBu(4), \"ARCHS4-GTEx\":YlGnBu(3),  \"ARCHS4-TS\": YlGnBu(5), \"GTEx-TS\": YlGnBu(6), \"All\": YlGnBu(7)}\n",
    "\n",
    "    top_targets_n = 100\n",
    "    target_list = []\n",
    "    for ct in targets:\n",
    "        for bg in targets[ct]:\n",
    "            target_list.extend(list(filter(lambda g: g in membrane_proteins, list(targets[ct][bg])[:top_targets_n])))\n",
    "    if len(set(target_list)) < 100:\n",
    "        top_targets_n = 500\n",
    "        for cluster in targets:\n",
    "            for bg in targets[cluster]:\n",
    "                target_list.extend(list(filter(lambda g: g in membrane_proteins, list(targets[cluster][bg])[:top_targets_n])))\n",
    "    \n",
    "    data1, data2, data3 = [], [], []\n",
    "    similarity = []\n",
    "    target_list = list(set(target_list))\n",
    "\n",
    "    for gene in target_list:\n",
    "        a = [1 if gene in list(targets[c]['ARCHS4'])[:top_targets_n] else 0 for c in list(targets.keys())]\n",
    "        g = [2 if gene in list(targets[c]['GTEx'])[:top_targets_n] else 0 for c in list(targets.keys())]\n",
    "        l = [4 if gene in list(targets[c]['TS'])[:top_targets_n] else 0 for c in list(targets.keys())]\n",
    "        data1.append(a)\n",
    "        data2.append(g)\n",
    "        data3.append(l)\n",
    "        similarity.append(np.dot(np.dot(np.array(a), np.array(g)), np.array(l)))\n",
    "\n",
    "    data = np.add(np.add(data1, data2), data3)\n",
    "\n",
    "    membrane_target_mat = pd.DataFrame(data)\n",
    "    membrane_target_mat.columns = list(targets.keys())\n",
    "    membrane_target_mat.index = target_list\n",
    "\n",
    "    membrane_target_mat['count'] = membrane_target_mat.sum(axis=1)\n",
    "    membrane_target_mat = membrane_target_mat[membrane_target_mat['count'] >= 7]\n",
    "    membrane_target_mat = membrane_target_mat.rename_axis('Membrane Target').sort_values(by = ['count', 'Membrane Target'], ascending = [False, True]).drop('count', axis=1)\n",
    "\n",
    "    h = membrane_target_mat.shape[0]\n",
    "    \n",
    "    g = sns.clustermap(membrane_target_mat, figsize=(2, 8), cmap=YlGnBu, cbar_pos=None, dendrogram_ratio=0.1-(h<40)*0.01*(h-30), row_cluster=False, xticklabels=True, yticklabels=True)\n",
    "    g.ax_row_dendrogram.legend(handles=[Rectangle((0, 0), 0, 0, color=val, label=key) for key, val in cmap.items()],\n",
    "                                    title='Background', loc='upper right')\n",
    "    plt.grid(False)\n",
    "    plt.savefig('figures/membrane_targets.svg', dpi=300)\n",
    "    plt.savefig('figures/membrane_targets.png', dpi=300)\n",
    "    plt.show()\n",
    "    display(Markdown(f'__Fig. {fig_counter}__. Membrane Targets for perturbed cell types, filtered by genes upregulated in control cell types compared to healthy background atlases.'))\n",
    "    display(FileLink('figures/membrane_targets.png', result_html_prefix='Download PNG: '))\n",
    "    display(FileLink('figures/membrane_targets.svg', result_html_prefix='Download SVG: '))\n",
    "    fig_counter += 1\n",
    "\n",
    "    \n",
    "elif species == 'mouse':\n",
    "    YlGnBu = cm.get_cmap('YlGnBu_r', 4)\n",
    "    cmap = {\"None\": YlGnBu(0), \"ARCHS4\": YlGnBu(1), \"Tabula Muris\":YlGnBu(2), \"Both\": YlGnBu(3)}\n",
    "\n",
    "    top_targets_n = 100\n",
    "    target_list = []\n",
    "    for ct in targets:\n",
    "        for bg in targets[ct]:\n",
    "            target_list.extend(list(filter(lambda g: g.upper() in membrane_proteins, list(targets[ct][bg]))))\n",
    "            #target_list.extend(list(targets[ct][bg])[:20])\n",
    "\n",
    "    data1, data2 = [], []\n",
    "    similarity = []\n",
    "    target_list = list(set(target_list))\n",
    "\n",
    "    for gene in target_list:\n",
    "        a = [1 if gene in targets[c]['ARCHS4'] else 0 for c in top_5]\n",
    "        g = [2 if gene in targets[c]['Tabula Muris'] else 0 for c in top_5]\n",
    "        data1.append(a)\n",
    "        data2.append(g)\n",
    "        similarity.append(np.dot(np.array(a), np.array(g)))\n",
    "\n",
    "    data = np.add(data1, data2)\n",
    "\n",
    "    membrane_target_mat = pd.DataFrame(data)\n",
    "    membrane_target_mat.columns = top_5\n",
    "    membrane_target_mat.index = target_list\n",
    "    \n",
    "    membrane_target_mat['count'] = membrane_target_mat.sum(axis=1)\n",
    "    membrane_target_mat = membrane_target_mat[membrane_target_mat['count'] >= 3]\n",
    "    \n",
    "    membrane_target_mat = membrane_target_mat.rename_axis('Membrane Target').sort_values(by = ['count', 'Membrane Target'], ascending = [False, True]).drop('count', axis=1)\n",
    "\n",
    "    h = membrane_target_mat.shape[0]\n",
    "    membrane_target_mat = membrane_target_mat.astype(float)\n",
    "    plt.rcParams.update(plt.rcParamsDefault)\n",
    "    g = sns.clustermap(membrane_target_mat, figsize=(3,0.2*h+2*(h<15)), cmap=YlGnBu, cbar_pos=None, dendrogram_ratio=0.1-(h<40)*0.01*(h-30), row_cluster=False, xticklabels=True, yticklabels=True)\n",
    "    g.ax_row_dendrogram.legend(handles=[Rectangle((0, 0), 0, 0, color=val, label=key) for key, val in cmap.items()],\n",
    "                                    title='Background', loc='upper right')\n",
    "    plt.grid(False)\n",
    "    plt.savefig('figures/membrane_targets.svg', dpi=300)\n",
    "    plt.savefig('figures/membrane_targets.png', dpi=300)\n",
    "    plt.show()\n",
    "    display(Markdown(f'__Fig. {fig_counter}__. Membrane Targets for perturbed cell types, filtered by genes upregulated in control cell types compared to healthy background atlases.'))\n",
    "    display(FileLink('figures/membrane_targets.png', result_html_prefix='Download PNG: '))\n",
    "    display(FileLink('figures/membrane_targets.svg', result_html_prefix='Download SVG: '))\n",
    "    fig_counter += 1"
   ]
  },
  {
   "cell_type": "code",
   "execution_count": null,
   "metadata": {},
   "outputs": [],
   "source": [
    "%%appyter markdown\n",
    "# LINCS L1000 Reversers\n",
    "{% if data_type.raw_value == 'scRNA-seq' %}\n",
    "To identify reverser compounds and CRISPR KOs most likely to push diseased cell types to a healthy phenotype, we query SigCom LINCS [14] which is a web-based search engine that serves over 1.5 million gene expression signatures processed, analyzed, and visualized from LINCS [15], GTEx [10], and GEO [16]. SigCom LINCS provides rapid signature similarity search for mimickers and reversers given sets of up and down genes.\n",
    "{% elif data_type.raw_value == 'bulk RNA-seq' %}\n",
    "To identify reverser compounds and CRISPR KOs most likely to push diseased cell types to a healthy phenotype, we query SigCom LINCS [9] which is a web-based search engine that serves over 1.5 million gene expression signatures processed, analyzed, and visualized from LINCS [10], GTEx [5], and GEO [11]. SigCom LINCS provides rapid signature similarity search for mimickers and reversers given sets of up and down genes.\n",
    "{% endif %}"
   ]
  },
  {
   "cell_type": "code",
   "execution_count": null,
   "metadata": {},
   "outputs": [],
   "source": [
    "\n",
    "%%appyter code_exec\n",
    "{% if data_type.raw_value == 'scRNA-seq' %}\n",
    "\n",
    "\n",
    "data = []\n",
    "for ct in top_5:\n",
    "    ct_pert_samples = list(filter(lambda x: ct in x and 'pert' in x, bulk_ct_df.columns))\n",
    "    ct_ctrl_samples = list(filter(lambda x: ct in x and 'ctrl' in x, bulk_ct_df.columns))\n",
    "    if len(ct_pert_samples) > 0 and len(ct_ctrl_samples) > 0:\n",
    "        diff_expr_ct = ttest_differential_expression(bulk_ct_df[ct_ctrl_samples], bulk_ct_df[ct_pert_samples], log2norm=False)\n",
    "        up_genes = list(diff_expr_ct[(diff_expr_ct['Pval'] < 0.01) & (diff_expr_ct['Statistic'] > 0)].sort_values('Statistic', ascending=False).index.values[:500])\n",
    "        down_genes = list(diff_expr_ct[(diff_expr_ct['Pval'] < 0.01) & (diff_expr_ct['Statistic'] < 0)].sort_values('Statistic', ascending=True).index.values[:500])\n",
    "        if len(up_genes) >= 5 and len(down_genes) >= 5:\n",
    "            input_data = {'up_entities': convert_entities(up_genes), 'down_entities': convert_entities(down_genes), 'description': ct}\n",
    "            desc, link = get_sigcom_link(input_data)\n",
    "            enrichment_id = link.split('/')[-1]\n",
    "            data.append([ct, link, len(up_genes), len(down_genes)])\n",
    "            fig, (ax1, ax2) = plt.subplots(1, 2, figsize=(6, 3))\n",
    "            cripsr_ko_reversers = get_sigcom_data(input_data, 'l1000_mean_xpr', enrichment_id)\n",
    "            sns.barplot(cripsr_ko_reversers, y='name', x='abs(Z-sum)', ax=ax1, orient='h')\n",
    "            ax1.set_title('CRISPR KO Reversers')\n",
    "            ax1.set_ylabel('')\n",
    "            chemical_perturbation_reverers = get_sigcom_data(input_data, 'l1000_mean_cp', enrichment_id)\n",
    "            sns.barplot(chemical_perturbation_reverers, y='name', x='abs(Z-sum)', ax=ax2, orient='h')\n",
    "            ax2.set_title('Chemical Perturbation Reversers')\n",
    "            ax2.set_ylabel('')\n",
    "            fig.tight_layout()\n",
    "            plt.savefig(f'figures/{ct}_reversers.png', dpi=300)\n",
    "            plt.savefig(f'figures/{ct}_reversers.svg', dpi=300)\n",
    "            plt.show()\n",
    "            display(Markdown(f'__Fig. {fig_counter}__. {ct} LINCS L1000 CRISPR KO and Chemical Perturbation Reversers.'))\n",
    "            display(FileLink(f'figures/{ct}_reversers.png', result_html_prefix='Download SVG: '))\n",
    "            display(FileLink(f'figures/{ct}_reversers.svg', result_html_prefix='Download SVG: '))\n",
    "            fig_counter += 1\n",
    "\n",
    "compound_df = pd.DataFrame(data, columns=['cell_type','link', 'up genes', 'down genes'])\n",
    "compound_df.set_index('cell_type', inplace=True)\n",
    "compound_df.to_csv('results/sigcom_links.csv')\n",
    "compound_df = compound_df.style.format({'link': lambda url: f'<a href=\"{url}\" rel=\"noopener noreferrer\" target=\"_blank\">SigCom LINCS</a>'})\n",
    "display(compound_df)\n",
    "display(Markdown(f'__Table. {table_counter}__. SigCom LINCS analysis links for overlapping cell types in control and perturbation scRNA-seq profiles.'))\n",
    "display(FileLink('results/sigcom_links.csv', result_html_prefix='Download CSV: '))\n",
    "table_counter += 1\n",
    "{% elif data_type.raw_value == 'bulk RNA-seq' %}\n",
    "data = []\n",
    "for ct in tqdm(top_5):\n",
    "    ct_ctrl_samples = list(filter(lambda x: ct in x and control_cond in x, bulk_ct_df.columns))\n",
    "    for pert in pert_conditions:\n",
    "        ct_pert_samples = list(filter(lambda x: ct in x and pert in x, bulk_ct_df.columns))\n",
    "        diff_expr_ct = ttest_differential_expression(bulk_ct_df[ct_ctrl_samples], bulk_ct_df[ct_pert_samples], log2norm=False)\n",
    "        up_genes = list(diff_expr_ct[(diff_expr_ct['Pval'] < 0.01) & (diff_expr_ct['Statistic'] > 0)].sort_values('Statistic', ascending=False).index.values[:500])\n",
    "        down_genes = list(diff_expr_ct[(diff_expr_ct['Pval'] < 0.01) & (diff_expr_ct['Statistic'] < 0)].sort_values('Statistic', ascending=True).index.values[:500])\n",
    "        if len(up_genes) >= 5 and len(down_genes) >= 5:\n",
    "            input_data = {'up_entities': convert_entities(up_genes), 'down_entities': convert_entities(down_genes), 'description': ct}\n",
    "            desc, link = get_sigcom_link(input_data)\n",
    "            enrichment_id = link.split('/')[-1]\n",
    "            data.append([ct, pert, link, len(up_genes), len(down_genes)])\n",
    "            fig, (ax1, ax2) = plt.subplots(1, 2, figsize=(6, 3))\n",
    "            cripsr_ko_reversers = get_sigcom_data(input_data, 'l1000_mean_xpr', enrichment_id)\n",
    "            sns.barplot(cripsr_ko_reversers, y='name', x='abs(Z-sum)', ax=ax1, orient='h')\n",
    "            ax1.set_title('CRISPR KO Reversers')\n",
    "            ax1.set_ylabel('')\n",
    "            chemical_perturbation_reverers = get_sigcom_data(input_data, 'l1000_mean_cp', enrichment_id)\n",
    "            sns.barplot(chemical_perturbation_reverers, y='name', x='abs(Z-sum)', ax=ax2, orient='h')\n",
    "            ax2.set_title('LINCS L1000 Chemical Perturbation Reversers')\n",
    "            ax2.set_ylabel('')\n",
    "            fig.tight_layout()\n",
    "            plt.savefig(f'figures/{ct}_{pert}_reversers.png', dpi=300)\n",
    "            plt.savefig(f'figures/{ct}_{pert}_reversers.svg', dpi=300)\n",
    "            plt.show()\n",
    "            display(Markdown(f'__Fig. {fig_counter}__. {ct} - {pert} LINCS L1000 CRISPR KO and Chemical Perturbation Reversers.'))\n",
    "            display(FileLink(f'figures/{ct}_{pert}_reversers.png', result_html_prefix='Download SVG: '))\n",
    "            display(FileLink(f'figures/{ct}_{pert}_reversers.svg', result_html_prefix='Download SVG: '))\n",
    "            fig_counter += 1\n",
    "            \n",
    "\n",
    "compound_df = pd.DataFrame(data, columns=['cell_type', 'perturbation', 'link', 'up genes', 'down genes'])\n",
    "compound_df.set_index('cell_type', inplace=True)\n",
    "compound_df.to_csv('results/sigcom_links.csv')\n",
    "compound_df = compound_df.style.format({'link': lambda url: f'<a href=\"{url}\" rel=\"noopener noreferrer\" target=\"_blank\">SigCom LINCS</a>'})\n",
    "display(compound_df)\n",
    "display(Markdown(f'__Table. {table_counter}__. SigCom LINCS analysis links for top 5 changed perturbed cell types.'))\n",
    "display(FileLink('results/sigcom_links.csv', result_html_prefix='Download CSV: '))\n",
    "table_counter += 1\n",
    "{% endif %}"
   ]
  },
  {
   "cell_type": "markdown",
   "metadata": {},
   "source": [
    "# References"
   ]
  },
  {
   "cell_type": "code",
   "execution_count": null,
   "metadata": {},
   "outputs": [],
   "source": [
    "%%appyter markdown\n",
    "\n",
    "{% if data_type.raw_value == 'scRNA-seq' %}\n",
    "\n",
    "[1] Butler A, Hoffman P, Smibert P, Papalexi E, Satija R. Integrating single-cell transcriptomic data across different conditions, technologies, and species. Nat Biotechnol. 2018 Jun;36(5):411-420. doi: 10.1038/nbt.4096. \n",
    "\n",
    "[2] Wolf FA, Angerer P, Theis FJ. SCANPY: large-scale single-cell gene expression data analysis. Genome Biol. 2018 Feb 6;19(1):15. doi: 10.1186/s13059-017-1382-0.\n",
    "\n",
    "[3] Wolock SL, Lopez R, Klein AM. Scrublet: Computational Identification of Cell Doublets in Single-Cell Transcriptomic Data. Cell Syst. 2019 Apr 24;8(4):281-291.e9. doi: 10.1016/j.cels.2018.11.005.\n",
    "\n",
    "[4] McInnes L, Healy J, Saul N, Großberger L. UMAP: Uniform Manifold Approximation and Projection. J Open Source Softw. 2018 Sep 2;3(29):861. doi: 10.21105/joss.00861.\n",
    "\n",
    "[5] Korsunsky I, Millard N, Fan J, Slowikowski K, Zhang F, Wei K, Baglaenko Y, Brenner M, Loh PR, Raychaudhuri S. Fast, sensitive and accurate integration of single-cell data with Harmony. Nat Methods. 2019 Dec;16(12):1289-1296. doi: 10.1038/s41592-019-0619-0.\n",
    "\n",
    "[6] Traag VA, Waltman L, van Eck NJ. From Louvain to Leiden: guaranteeing well-connected communities. Sci Rep. 2019 Mar 26;9(1):5233. doi: 10.1038/s41598-019-41695-z.\n",
    "\n",
    "[7] Franzén O, Gan LM, Björkegren JLM. PanglaoDB: a web server for exploration of mouse and human single-cell RNA sequencing data. Database (Oxford). 2019 Jan 1;2019:baz046. doi: 10.1093/database/baz046.\n",
    "\n",
    "[8] Badia-I-Mompel P, Vélez Santiago J, Braunger J, Geiss C, Dimitrov D, Müller-Dott S, Taus P, Dugourd A, Holland CH, Ramirez Flores RO, Saez-Rodriguez J. decoupleR: ensemble of computational methods to infer biological activities from omics data. Bioinform Adv. 2022 Mar 8;2(1):vbac016. doi: 10.1093/bioadv/vbac016.\n",
    "\n",
    "[9] Marino GB, Ngai M, Clarke DJB, Fleishman RH, Deng EZ, Xie Z, Ahmed N, Ma'ayan A. GeneRanger and TargetRanger: processed gene and protein expression levels across cells and tissues for target discovery. Nucleic Acids Res. 2023 Jul 5;51(W1):W213-W224.\n",
    "\n",
    "[10] GTEx Consortium. The Genotype-Tissue Expression (GTEx) project. Nat Genet. 2013 Jun;45(6):580-5. doi: 10.1038/ng.2653. \n",
    "\n",
    "[11] Lachmann A, Torre D, Keenan AB, Jagodnik KM, Lee HJ, Wang L, Silverstein MC, Ma'ayan A. Massive mining of publicly available RNA-seq data from human and mouse. Nat Commun. 2018 Apr 10;9(1):1366. doi: 10.1038/s41467-018-03751-6.\n",
    "\n",
    "[12] Tabula Sapiens Consortium. The Tabula Sapiens: A multiple-organ, single-cell transcriptomic atlas of humans. Science. 2022 May 13;376(6594):eabl4896. doi: 10.1126/science.abl4896.\n",
    "\n",
    "[13] Tabula Muris Consortium. Single-cell transcriptomics of 20 mouse organs creates a Tabula Muris. Nature. 2018 Oct;562(7727):367-372. doi: 10.1038/s41586-018-0590-4. \n",
    "\n",
    "[14] Evangelista JE, Clarke DJB, Xie Z, Lachmann A, Jeon M, Chen K, Jagodnik KM, Jenkins SL, Kuleshov MV, Wojciechowicz ML, Schürer SC, Medvedovic M, Ma'ayan A. SigCom LINCS: data and metadata search engine for a million gene expression signatures. Nucleic Acids Res. 2022 Jul 5;50(W1):W697-W709. doi: 10.1093/nar/gkac328. \n",
    "\n",
    "[15] Keenan AB, Jenkins SL, Jagodnik KM, Koplev S, He E, Torre D, Wang Z, Dohlman AB, Silverstein MC, Lachmann A, Kuleshov MV, Ma'ayan A, Stathias V, Terryn R, Cooper D, Forlin M, Koleti A, Vidovic D, Chung C, Schürer SC, Vasiliauskas J, Pilarczyk M, Shamsaei B, Fazel M, Ren Y, Niu W, Clark NA, White S, Mahi N, Zhang L, Kouril M, Reichard JF, Sivaganesan S, Medvedovic M, Meller J, Koch RJ, Birtwistle MR, Iyengar R, Sobie EA, Azeloglu EU, Kaye J, Osterloh J, Haston K, Kalra J, Finkbiener S, Li J, Milani P, Adam M, Escalante-Chong R, Sachs K, Lenail A, Ramamoorthy D, Fraenkel E, Daigle G, Hussain U, Coye A, Rothstein J, Sareen D, Ornelas L, Banuelos M, Mandefro B, Ho R, Svendsen CN, Lim RG, Stocksdale J, Casale MS, Thompson TG, Wu J, Thompson LM, Dardov V, Venkatraman V, Matlock A, Van Eyk JE, Jaffe JD, Papanastasiou M, Subramanian A, Golub TR, Erickson SD, Fallahi-Sichani M, Hafner M, Gray NS, Lin JR, Mills CE, Muhlich JL, Niepel M, Shamu CE, Williams EH, Wrobel D, Sorger PK, Heiser LM, Gray JW, Korkola JE, Mills GB, LaBarge M, Feiler HS, Dane MA, Bucher E, Nederlof M, Sudar D, Gross S, Kilburn DF, Smith R, Devlin K, Margolis R, Derr L, Lee A, Pillai A. The Library of Integrated Network-Based Cellular Signatures NIH Program: System-Level Cataloging of Human Cells Response to Perturbations. Cell Syst. 2018 Jan 24;6(1):13-24. doi: 10.1016/j.cels.2017.11.001.\n",
    "\n",
    "[16] Clough E, Barrett T. The Gene Expression Omnibus Database. Methods Mol Biol. 2016;1418:93-110. doi: 10.1007/978-1-4939-3578-9_5.\n",
    "\n",
    "{% elif data_type.raw_value == 'bulk RNA-seq' %}\n",
    "\n",
    "[1] McInnes L, Healy J, Saul N, Großberger L. UMAP: Uniform Manifold Approximation and Projection. J Open Source Softw. 2018 Sep 2;3(29):861. doi: 10.21105/joss.00861.\n",
    "\n",
    "[2] Chu T, Wang Z, Pe'er D, Danko CG. Cell type and gene expression deconvolution with BayesPrism enables Bayesian integrative analysis across bulk and single-cell RNA sequencing in oncology. Nat Cancer. 2022 Apr;3(4):505-517. doi: 10.1038/s43018-022-00356-3.\n",
    "\n",
    "[3] Hu M, Chikina M. InstaPrism: an R package for fast implementation of BayesPrism. Bioinformatics. 2024 Jul 1;40(7):btae440.\n",
    "\n",
    "[4] Marino GB, Ngai M, Clarke DJB, Fleishman RH, Deng EZ, Xie Z, Ahmed N, Ma'ayan A. GeneRanger and TargetRanger: processed gene and protein expression levels across cells and tissues for target discovery. Nucleic Acids Res. 2023 Jul 5;51(W1):W213-W224.\n",
    "\n",
    "[5] GTEx Consortium. The Genotype-Tissue Expression (GTEx) project. Nat Genet. 2013 Jun;45(6):580-5. doi: 10.1038/ng.2653. \n",
    "\n",
    "[6] Lachmann A, Torre D, Keenan AB, Jagodnik KM, Lee HJ, Wang L, Silverstein MC, Ma'ayan A. Massive mining of publicly available RNA-seq data from human and mouse. Nat Commun. 2018 Apr 10;9(1):1366. doi: 10.1038/s41467-018-03751-6.\n",
    "\n",
    "[7] Tabula Sapiens Consortium. The Tabula Sapiens: A multiple-organ, single-cell transcriptomic atlas of humans. Science. 2022 May 13;376(6594):eabl4896. doi: 10.1126/science.abl4896.\n",
    "\n",
    "[8] Tabula Muris Consortium. Single-cell transcriptomics of 20 mouse organs creates a Tabula Muris. Nature. 2018 Oct;562(7727):367-372. doi: 10.1038/s41586-018-0590-4. \n",
    "\n",
    "[9] Evangelista JE, Clarke DJB, Xie Z, Lachmann A, Jeon M, Chen K, Jagodnik KM, Jenkins SL, Kuleshov MV, Wojciechowicz ML, Schürer SC, Medvedovic M, Ma'ayan A. SigCom LINCS: data and metadata search engine for a million gene expression signatures. Nucleic Acids Res. 2022 Jul 5;50(W1):W697-W709. doi: 10.1093/nar/gkac328. \n",
    "\n",
    "[10] Keenan AB, Jenkins SL, Jagodnik KM, Koplev S, He E, Torre D, Wang Z, Dohlman AB, Silverstein MC, Lachmann A, Kuleshov MV, Ma'ayan A, Stathias V, Terryn R, Cooper D, Forlin M, Koleti A, Vidovic D, Chung C, Schürer SC, Vasiliauskas J, Pilarczyk M, Shamsaei B, Fazel M, Ren Y, Niu W, Clark NA, White S, Mahi N, Zhang L, Kouril M, Reichard JF, Sivaganesan S, Medvedovic M, Meller J, Koch RJ, Birtwistle MR, Iyengar R, Sobie EA, Azeloglu EU, Kaye J, Osterloh J, Haston K, Kalra J, Finkbiener S, Li J, Milani P, Adam M, Escalante-Chong R, Sachs K, Lenail A, Ramamoorthy D, Fraenkel E, Daigle G, Hussain U, Coye A, Rothstein J, Sareen D, Ornelas L, Banuelos M, Mandefro B, Ho R, Svendsen CN, Lim RG, Stocksdale J, Casale MS, Thompson TG, Wu J, Thompson LM, Dardov V, Venkatraman V, Matlock A, Van Eyk JE, Jaffe JD, Papanastasiou M, Subramanian A, Golub TR, Erickson SD, Fallahi-Sichani M, Hafner M, Gray NS, Lin JR, Mills CE, Muhlich JL, Niepel M, Shamu CE, Williams EH, Wrobel D, Sorger PK, Heiser LM, Gray JW, Korkola JE, Mills GB, LaBarge M, Feiler HS, Dane MA, Bucher E, Nederlof M, Sudar D, Gross S, Kilburn DF, Smith R, Devlin K, Margolis R, Derr L, Lee A, Pillai A. The Library of Integrated Network-Based Cellular Signatures NIH Program: System-Level Cataloging of Human Cells Response to Perturbations. Cell Syst. 2018 Jan 24;6(1):13-24. doi: 10.1016/j.cels.2017.11.001.\n",
    "\n",
    "[11] Clough E, Barrett T. The Gene Expression Omnibus Database. Methods Mol Biol. 2016;1418:93-110. doi: 10.1007/978-1-4939-3578-9_5.\n",
    "\n",
    "{% endif %}"
   ]
  }
 ],
 "metadata": {
  "kernelspec": {
   "display_name": "venv",
   "language": "python",
   "name": "python3"
  },
  "language_info": {
   "codemirror_mode": {
    "name": "ipython",
    "version": 3
   },
   "file_extension": ".py",
   "mimetype": "text/x-python",
   "name": "python",
   "nbconvert_exporter": "python",
   "pygments_lexer": "ipython3",
   "version": "3.9.18"
  }
 },
 "nbformat": 4,
 "nbformat_minor": 4
}
